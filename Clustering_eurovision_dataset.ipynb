{
 "cells": [
  {
   "cell_type": "code",
   "execution_count": 1,
   "metadata": {
    "collapsed": false
   },
   "outputs": [],
   "source": [
    "import numpy as np\n",
    "import pandas as pd\n",
    "import matplotlib.pyplot as plt\n",
    "import seaborn as sns\n",
    "from sklearn.cluster import KMeans\n",
    "from scipy.cluster.hierarchy import linkage,dendrogram,fcluster\n",
    "from sklearn.cluster import DBSCAN\n",
    "from sklearn.metrics import silhouette_score\n",
    "from sklearn.preprocessing import StandardScaler \n",
    "from sklearn.metrics.pairwise import euclidean_distances"
   ]
  },
  {
   "cell_type": "markdown",
   "metadata": {},
   "source": [
    "## Eurovision voting results"
   ]
  },
  {
   "cell_type": "markdown",
   "metadata": {},
   "source": [
    "Dane zawierają wyniki głosowania na piosenki z konkursu Eurowizji 2014. Mamy informację o tym kto (jaki kraj) na kogo głosował. Sprawdźmy, czy jesteśmy w stanie znaleźć grupy piosenek, które podobały się oceniającym z tych samych krajów (czyli po prostu podobnych według naszych danych). Być może kraje podobne do siebie kulturowo/etnicznie znajdą się w tych samych grupach.  \n",
    "\n",
    "Uwaga: założenie głosowania - nie można głosować na swój kraj. \n",
    "\n",
    "\n",
    "Przetestuj różne metody klastrowania."
   ]
  },
  {
   "cell_type": "code",
   "execution_count": 2,
   "metadata": {
    "collapsed": false
   },
   "outputs": [],
   "source": [
    "data = pd.read_csv(\"Data2//eurowizja.csv\")\n",
    "data.set_index(data.columns[0],inplace=True)"
   ]
  },
  {
   "cell_type": "code",
   "execution_count": 3,
   "metadata": {
    "collapsed": false
   },
   "outputs": [
    {
     "data": {
      "text/html": [
       "<div>\n",
       "<table border=\"1\" class=\"dataframe\">\n",
       "  <thead>\n",
       "    <tr style=\"text-align: right;\">\n",
       "      <th></th>\n",
       "      <th>Ukraine</th>\n",
       "      <th>Belarus</th>\n",
       "      <th>Azerbaijan</th>\n",
       "      <th>Iceland</th>\n",
       "      <th>Norway</th>\n",
       "      <th>Romania</th>\n",
       "      <th>Armenia</th>\n",
       "      <th>Montenegro</th>\n",
       "      <th>Greece</th>\n",
       "      <th>Poland</th>\n",
       "      <th>...</th>\n",
       "      <th>Slovenia</th>\n",
       "      <th>Finland</th>\n",
       "      <th>Spain</th>\n",
       "      <th>Switzerland</th>\n",
       "      <th>Hungary</th>\n",
       "      <th>Malta</th>\n",
       "      <th>Denmark</th>\n",
       "      <th>Netherlands</th>\n",
       "      <th>San Marino</th>\n",
       "      <th>United Kingdom</th>\n",
       "    </tr>\n",
       "    <tr>\n",
       "      <th>0</th>\n",
       "      <th></th>\n",
       "      <th></th>\n",
       "      <th></th>\n",
       "      <th></th>\n",
       "      <th></th>\n",
       "      <th></th>\n",
       "      <th></th>\n",
       "      <th></th>\n",
       "      <th></th>\n",
       "      <th></th>\n",
       "      <th></th>\n",
       "      <th></th>\n",
       "      <th></th>\n",
       "      <th></th>\n",
       "      <th></th>\n",
       "      <th></th>\n",
       "      <th></th>\n",
       "      <th></th>\n",
       "      <th></th>\n",
       "      <th></th>\n",
       "      <th></th>\n",
       "    </tr>\n",
       "  </thead>\n",
       "  <tbody>\n",
       "    <tr>\n",
       "      <th>Albania</th>\n",
       "      <td>0</td>\n",
       "      <td>0</td>\n",
       "      <td>0</td>\n",
       "      <td>0</td>\n",
       "      <td>0</td>\n",
       "      <td>0</td>\n",
       "      <td>0</td>\n",
       "      <td>6</td>\n",
       "      <td>0</td>\n",
       "      <td>2</td>\n",
       "      <td>...</td>\n",
       "      <td>0</td>\n",
       "      <td>0</td>\n",
       "      <td>12</td>\n",
       "      <td>0</td>\n",
       "      <td>8</td>\n",
       "      <td>1</td>\n",
       "      <td>0</td>\n",
       "      <td>0</td>\n",
       "      <td>3</td>\n",
       "      <td>0</td>\n",
       "    </tr>\n",
       "    <tr>\n",
       "      <th>Armenia</th>\n",
       "      <td>0</td>\n",
       "      <td>8</td>\n",
       "      <td>0</td>\n",
       "      <td>0</td>\n",
       "      <td>0</td>\n",
       "      <td>0</td>\n",
       "      <td>0</td>\n",
       "      <td>12</td>\n",
       "      <td>0</td>\n",
       "      <td>7</td>\n",
       "      <td>...</td>\n",
       "      <td>0</td>\n",
       "      <td>0</td>\n",
       "      <td>2</td>\n",
       "      <td>5</td>\n",
       "      <td>0</td>\n",
       "      <td>0</td>\n",
       "      <td>1</td>\n",
       "      <td>4</td>\n",
       "      <td>3</td>\n",
       "      <td>0</td>\n",
       "    </tr>\n",
       "    <tr>\n",
       "      <th>Austria</th>\n",
       "      <td>5</td>\n",
       "      <td>0</td>\n",
       "      <td>0</td>\n",
       "      <td>2</td>\n",
       "      <td>1</td>\n",
       "      <td>8</td>\n",
       "      <td>12</td>\n",
       "      <td>0</td>\n",
       "      <td>0</td>\n",
       "      <td>0</td>\n",
       "      <td>...</td>\n",
       "      <td>0</td>\n",
       "      <td>4</td>\n",
       "      <td>0</td>\n",
       "      <td>3</td>\n",
       "      <td>7</td>\n",
       "      <td>0</td>\n",
       "      <td>0</td>\n",
       "      <td>10</td>\n",
       "      <td>0</td>\n",
       "      <td>0</td>\n",
       "    </tr>\n",
       "    <tr>\n",
       "      <th>Azerbaijan</th>\n",
       "      <td>10</td>\n",
       "      <td>7</td>\n",
       "      <td>0</td>\n",
       "      <td>0</td>\n",
       "      <td>0</td>\n",
       "      <td>6</td>\n",
       "      <td>0</td>\n",
       "      <td>0</td>\n",
       "      <td>2</td>\n",
       "      <td>4</td>\n",
       "      <td>...</td>\n",
       "      <td>0</td>\n",
       "      <td>0</td>\n",
       "      <td>0</td>\n",
       "      <td>0</td>\n",
       "      <td>8</td>\n",
       "      <td>5</td>\n",
       "      <td>0</td>\n",
       "      <td>0</td>\n",
       "      <td>3</td>\n",
       "      <td>0</td>\n",
       "    </tr>\n",
       "    <tr>\n",
       "      <th>Belarus</th>\n",
       "      <td>8</td>\n",
       "      <td>0</td>\n",
       "      <td>3</td>\n",
       "      <td>0</td>\n",
       "      <td>4</td>\n",
       "      <td>1</td>\n",
       "      <td>10</td>\n",
       "      <td>0</td>\n",
       "      <td>7</td>\n",
       "      <td>6</td>\n",
       "      <td>...</td>\n",
       "      <td>0</td>\n",
       "      <td>0</td>\n",
       "      <td>0</td>\n",
       "      <td>0</td>\n",
       "      <td>5</td>\n",
       "      <td>0</td>\n",
       "      <td>0</td>\n",
       "      <td>2</td>\n",
       "      <td>0</td>\n",
       "      <td>0</td>\n",
       "    </tr>\n",
       "  </tbody>\n",
       "</table>\n",
       "<p>5 rows × 26 columns</p>\n",
       "</div>"
      ],
      "text/plain": [
       "            Ukraine  Belarus  Azerbaijan  Iceland  Norway  Romania  Armenia  \\\n",
       "0                                                                             \n",
       "Albania           0        0           0        0       0        0        0   \n",
       "Armenia           0        8           0        0       0        0        0   \n",
       "Austria           5        0           0        2       1        8       12   \n",
       "Azerbaijan       10        7           0        0       0        6        0   \n",
       "Belarus           8        0           3        0       4        1       10   \n",
       "\n",
       "            Montenegro  Greece  Poland       ...        Slovenia  Finland  \\\n",
       "0                                            ...                            \n",
       "Albania              6       0       2       ...               0        0   \n",
       "Armenia             12       0       7       ...               0        0   \n",
       "Austria              0       0       0       ...               0        4   \n",
       "Azerbaijan           0       2       4       ...               0        0   \n",
       "Belarus              0       7       6       ...               0        0   \n",
       "\n",
       "            Spain  Switzerland  Hungary  Malta  Denmark  Netherlands  \\\n",
       "0                                                                      \n",
       "Albania        12            0        8      1        0            0   \n",
       "Armenia         2            5        0      0        1            4   \n",
       "Austria         0            3        7      0        0           10   \n",
       "Azerbaijan      0            0        8      5        0            0   \n",
       "Belarus         0            0        5      0        0            2   \n",
       "\n",
       "            San Marino  United Kingdom  \n",
       "0                                       \n",
       "Albania              3               0  \n",
       "Armenia              3               0  \n",
       "Austria              0               0  \n",
       "Azerbaijan           3               0  \n",
       "Belarus              0               0  \n",
       "\n",
       "[5 rows x 26 columns]"
      ]
     },
     "execution_count": 3,
     "metadata": {},
     "output_type": "execute_result"
    }
   ],
   "source": [
    "data.head()"
   ]
  },
  {
   "cell_type": "markdown",
   "metadata": {},
   "source": [
    "kraje nie mogą głosowaćna siebie, ale gdyby mogły dały by sobie max punktów"
   ]
  },
  {
   "cell_type": "code",
   "execution_count": 4,
   "metadata": {
    "collapsed": false
   },
   "outputs": [],
   "source": [
    "for ind in range(data.shape[0]):\n",
    "    country = data.index[ind]\n",
    "    if country in data.columns:\n",
    "        data[country][ind] = 12"
   ]
  },
  {
   "cell_type": "code",
   "execution_count": 5,
   "metadata": {
    "collapsed": false
   },
   "outputs": [
    {
     "name": "stdout",
     "output_type": "stream",
     "text": [
      "Finland\n"
     ]
    },
    {
     "data": {
      "text/plain": [
       "Ukraine            0\n",
       "Belarus            0\n",
       "Azerbaijan         0\n",
       "Iceland            0\n",
       "Norway             0\n",
       "Romania            4\n",
       "Armenia            8\n",
       "Montenegro        12\n",
       "Greece             5\n",
       "Poland             0\n",
       "Austria            3\n",
       "Germany            0\n",
       "Sweden             0\n",
       "France             0\n",
       "Russia             6\n",
       "Italy              2\n",
       "Slovenia           1\n",
       "Finland           12\n",
       "Spain              0\n",
       "Switzerland        0\n",
       "Hungary           10\n",
       "Malta              0\n",
       "Denmark            0\n",
       "Netherlands        7\n",
       "San Marino         0\n",
       "United Kingdom     0\n",
       "Name: Finland, dtype: int64"
      ]
     },
     "execution_count": 5,
     "metadata": {},
     "output_type": "execute_result"
    }
   ],
   "source": [
    "ind = 8\n",
    "print(data.index[ind])\n",
    "data.iloc[ind,:]"
   ]
  },
  {
   "cell_type": "code",
   "execution_count": 33,
   "metadata": {
    "collapsed": true
   },
   "outputs": [],
   "source": [
    "data /= data.sum(axis=1)"
   ]
  },
  {
   "cell_type": "code",
   "execution_count": 6,
   "metadata": {
    "collapsed": false
   },
   "outputs": [
    {
     "data": {
      "text/plain": [
       "(37, 26)"
      ]
     },
     "execution_count": 6,
     "metadata": {},
     "output_type": "execute_result"
    }
   ],
   "source": [
    "data.shape"
   ]
  },
  {
   "cell_type": "code",
   "execution_count": 34,
   "metadata": {
    "collapsed": false
   },
   "outputs": [
    {
     "data": {
      "text/html": [
       "<div>\n",
       "<table border=\"1\" class=\"dataframe\">\n",
       "  <thead>\n",
       "    <tr style=\"text-align: right;\">\n",
       "      <th></th>\n",
       "      <th>Ukraine</th>\n",
       "      <th>Belarus</th>\n",
       "      <th>Azerbaijan</th>\n",
       "      <th>Iceland</th>\n",
       "      <th>Norway</th>\n",
       "      <th>Romania</th>\n",
       "      <th>Armenia</th>\n",
       "      <th>Montenegro</th>\n",
       "      <th>Greece</th>\n",
       "      <th>Poland</th>\n",
       "      <th>...</th>\n",
       "      <th>Slovenia</th>\n",
       "      <th>Finland</th>\n",
       "      <th>Spain</th>\n",
       "      <th>Switzerland</th>\n",
       "      <th>Hungary</th>\n",
       "      <th>Malta</th>\n",
       "      <th>Denmark</th>\n",
       "      <th>Netherlands</th>\n",
       "      <th>San Marino</th>\n",
       "      <th>United Kingdom</th>\n",
       "    </tr>\n",
       "  </thead>\n",
       "  <tbody>\n",
       "    <tr>\n",
       "      <th>count</th>\n",
       "      <td>37.000000</td>\n",
       "      <td>37.000000</td>\n",
       "      <td>37.000000</td>\n",
       "      <td>37.000000</td>\n",
       "      <td>37.000000</td>\n",
       "      <td>37.000000</td>\n",
       "      <td>37.000000</td>\n",
       "      <td>37.000000</td>\n",
       "      <td>37.000000</td>\n",
       "      <td>37.000000</td>\n",
       "      <td>...</td>\n",
       "      <td>37.000000</td>\n",
       "      <td>37.000000</td>\n",
       "      <td>37.000000</td>\n",
       "      <td>37.000000</td>\n",
       "      <td>37.000000</td>\n",
       "      <td>37.000000</td>\n",
       "      <td>37.000000</td>\n",
       "      <td>37.000000</td>\n",
       "      <td>37.000000</td>\n",
       "      <td>37.000000</td>\n",
       "    </tr>\n",
       "    <tr>\n",
       "      <th>mean</th>\n",
       "      <td>0.048263</td>\n",
       "      <td>0.021236</td>\n",
       "      <td>0.017375</td>\n",
       "      <td>0.027027</td>\n",
       "      <td>0.039897</td>\n",
       "      <td>0.032432</td>\n",
       "      <td>0.071815</td>\n",
       "      <td>0.018919</td>\n",
       "      <td>0.028829</td>\n",
       "      <td>0.018147</td>\n",
       "      <td>...</td>\n",
       "      <td>0.008108</td>\n",
       "      <td>0.032432</td>\n",
       "      <td>0.033205</td>\n",
       "      <td>0.029447</td>\n",
       "      <td>0.062922</td>\n",
       "      <td>0.016988</td>\n",
       "      <td>0.033205</td>\n",
       "      <td>0.110904</td>\n",
       "      <td>0.010039</td>\n",
       "      <td>0.020077</td>\n",
       "    </tr>\n",
       "    <tr>\n",
       "      <th>std</th>\n",
       "      <td>0.054226</td>\n",
       "      <td>0.047095</td>\n",
       "      <td>0.047157</td>\n",
       "      <td>0.046636</td>\n",
       "      <td>0.050973</td>\n",
       "      <td>0.052017</td>\n",
       "      <td>0.059523</td>\n",
       "      <td>0.050626</td>\n",
       "      <td>0.047895</td>\n",
       "      <td>0.036832</td>\n",
       "      <td>...</td>\n",
       "      <td>0.033425</td>\n",
       "      <td>0.042009</td>\n",
       "      <td>0.046664</td>\n",
       "      <td>0.044705</td>\n",
       "      <td>0.059667</td>\n",
       "      <td>0.039675</td>\n",
       "      <td>0.045307</td>\n",
       "      <td>0.081128</td>\n",
       "      <td>0.031019</td>\n",
       "      <td>0.040189</td>\n",
       "    </tr>\n",
       "    <tr>\n",
       "      <th>min</th>\n",
       "      <td>0.000000</td>\n",
       "      <td>0.000000</td>\n",
       "      <td>0.000000</td>\n",
       "      <td>0.000000</td>\n",
       "      <td>0.000000</td>\n",
       "      <td>0.000000</td>\n",
       "      <td>0.000000</td>\n",
       "      <td>0.000000</td>\n",
       "      <td>0.000000</td>\n",
       "      <td>0.000000</td>\n",
       "      <td>...</td>\n",
       "      <td>0.000000</td>\n",
       "      <td>0.000000</td>\n",
       "      <td>0.000000</td>\n",
       "      <td>0.000000</td>\n",
       "      <td>0.000000</td>\n",
       "      <td>0.000000</td>\n",
       "      <td>0.000000</td>\n",
       "      <td>0.000000</td>\n",
       "      <td>0.000000</td>\n",
       "      <td>0.000000</td>\n",
       "    </tr>\n",
       "    <tr>\n",
       "      <th>25%</th>\n",
       "      <td>0.000000</td>\n",
       "      <td>0.000000</td>\n",
       "      <td>0.000000</td>\n",
       "      <td>0.000000</td>\n",
       "      <td>0.000000</td>\n",
       "      <td>0.000000</td>\n",
       "      <td>0.000000</td>\n",
       "      <td>0.000000</td>\n",
       "      <td>0.000000</td>\n",
       "      <td>0.000000</td>\n",
       "      <td>...</td>\n",
       "      <td>0.000000</td>\n",
       "      <td>0.000000</td>\n",
       "      <td>0.000000</td>\n",
       "      <td>0.000000</td>\n",
       "      <td>0.000000</td>\n",
       "      <td>0.000000</td>\n",
       "      <td>0.000000</td>\n",
       "      <td>0.034483</td>\n",
       "      <td>0.000000</td>\n",
       "      <td>0.000000</td>\n",
       "    </tr>\n",
       "    <tr>\n",
       "      <th>50%</th>\n",
       "      <td>0.028571</td>\n",
       "      <td>0.000000</td>\n",
       "      <td>0.000000</td>\n",
       "      <td>0.000000</td>\n",
       "      <td>0.015873</td>\n",
       "      <td>0.000000</td>\n",
       "      <td>0.071429</td>\n",
       "      <td>0.000000</td>\n",
       "      <td>0.000000</td>\n",
       "      <td>0.000000</td>\n",
       "      <td>...</td>\n",
       "      <td>0.000000</td>\n",
       "      <td>0.000000</td>\n",
       "      <td>0.000000</td>\n",
       "      <td>0.000000</td>\n",
       "      <td>0.062500</td>\n",
       "      <td>0.000000</td>\n",
       "      <td>0.014286</td>\n",
       "      <td>0.137931</td>\n",
       "      <td>0.000000</td>\n",
       "      <td>0.000000</td>\n",
       "    </tr>\n",
       "    <tr>\n",
       "      <th>75%</th>\n",
       "      <td>0.085714</td>\n",
       "      <td>0.000000</td>\n",
       "      <td>0.000000</td>\n",
       "      <td>0.030769</td>\n",
       "      <td>0.079365</td>\n",
       "      <td>0.057143</td>\n",
       "      <td>0.114286</td>\n",
       "      <td>0.000000</td>\n",
       "      <td>0.033333</td>\n",
       "      <td>0.028571</td>\n",
       "      <td>...</td>\n",
       "      <td>0.000000</td>\n",
       "      <td>0.057143</td>\n",
       "      <td>0.057143</td>\n",
       "      <td>0.044776</td>\n",
       "      <td>0.109375</td>\n",
       "      <td>0.000000</td>\n",
       "      <td>0.057143</td>\n",
       "      <td>0.172414</td>\n",
       "      <td>0.000000</td>\n",
       "      <td>0.014286</td>\n",
       "    </tr>\n",
       "    <tr>\n",
       "      <th>max</th>\n",
       "      <td>0.171429</td>\n",
       "      <td>0.171429</td>\n",
       "      <td>0.171429</td>\n",
       "      <td>0.184615</td>\n",
       "      <td>0.190476</td>\n",
       "      <td>0.171429</td>\n",
       "      <td>0.171429</td>\n",
       "      <td>0.171429</td>\n",
       "      <td>0.200000</td>\n",
       "      <td>0.171429</td>\n",
       "      <td>...</td>\n",
       "      <td>0.171429</td>\n",
       "      <td>0.171429</td>\n",
       "      <td>0.171429</td>\n",
       "      <td>0.179104</td>\n",
       "      <td>0.187500</td>\n",
       "      <td>0.171429</td>\n",
       "      <td>0.171429</td>\n",
       "      <td>0.206897</td>\n",
       "      <td>0.171429</td>\n",
       "      <td>0.171429</td>\n",
       "    </tr>\n",
       "  </tbody>\n",
       "</table>\n",
       "<p>8 rows × 26 columns</p>\n",
       "</div>"
      ],
      "text/plain": [
       "         Ukraine    Belarus  Azerbaijan    Iceland     Norway    Romania  \\\n",
       "count  37.000000  37.000000   37.000000  37.000000  37.000000  37.000000   \n",
       "mean    0.048263   0.021236    0.017375   0.027027   0.039897   0.032432   \n",
       "std     0.054226   0.047095    0.047157   0.046636   0.050973   0.052017   \n",
       "min     0.000000   0.000000    0.000000   0.000000   0.000000   0.000000   \n",
       "25%     0.000000   0.000000    0.000000   0.000000   0.000000   0.000000   \n",
       "50%     0.028571   0.000000    0.000000   0.000000   0.015873   0.000000   \n",
       "75%     0.085714   0.000000    0.000000   0.030769   0.079365   0.057143   \n",
       "max     0.171429   0.171429    0.171429   0.184615   0.190476   0.171429   \n",
       "\n",
       "         Armenia  Montenegro     Greece     Poland       ...         Slovenia  \\\n",
       "count  37.000000   37.000000  37.000000  37.000000       ...        37.000000   \n",
       "mean    0.071815    0.018919   0.028829   0.018147       ...         0.008108   \n",
       "std     0.059523    0.050626   0.047895   0.036832       ...         0.033425   \n",
       "min     0.000000    0.000000   0.000000   0.000000       ...         0.000000   \n",
       "25%     0.000000    0.000000   0.000000   0.000000       ...         0.000000   \n",
       "50%     0.071429    0.000000   0.000000   0.000000       ...         0.000000   \n",
       "75%     0.114286    0.000000   0.033333   0.028571       ...         0.000000   \n",
       "max     0.171429    0.171429   0.200000   0.171429       ...         0.171429   \n",
       "\n",
       "         Finland      Spain  Switzerland    Hungary      Malta    Denmark  \\\n",
       "count  37.000000  37.000000    37.000000  37.000000  37.000000  37.000000   \n",
       "mean    0.032432   0.033205     0.029447   0.062922   0.016988   0.033205   \n",
       "std     0.042009   0.046664     0.044705   0.059667   0.039675   0.045307   \n",
       "min     0.000000   0.000000     0.000000   0.000000   0.000000   0.000000   \n",
       "25%     0.000000   0.000000     0.000000   0.000000   0.000000   0.000000   \n",
       "50%     0.000000   0.000000     0.000000   0.062500   0.000000   0.014286   \n",
       "75%     0.057143   0.057143     0.044776   0.109375   0.000000   0.057143   \n",
       "max     0.171429   0.171429     0.179104   0.187500   0.171429   0.171429   \n",
       "\n",
       "       Netherlands  San Marino  United Kingdom  \n",
       "count    37.000000   37.000000       37.000000  \n",
       "mean      0.110904    0.010039        0.020077  \n",
       "std       0.081128    0.031019        0.040189  \n",
       "min       0.000000    0.000000        0.000000  \n",
       "25%       0.034483    0.000000        0.000000  \n",
       "50%       0.137931    0.000000        0.000000  \n",
       "75%       0.172414    0.000000        0.014286  \n",
       "max       0.206897    0.171429        0.171429  \n",
       "\n",
       "[8 rows x 26 columns]"
      ]
     },
     "execution_count": 34,
     "metadata": {},
     "output_type": "execute_result"
    }
   ],
   "source": [
    "data.describe()"
   ]
  },
  {
   "cell_type": "code",
   "execution_count": 35,
   "metadata": {
    "collapsed": false
   },
   "outputs": [
    {
     "data": {
      "text/plain": [
       "Index(['Ukraine', 'Belarus', 'Azerbaijan', 'Iceland', 'Norway', 'Romania',\n",
       "       'Armenia', 'Montenegro', 'Greece', 'Poland', 'Austria', 'Germany',\n",
       "       'Sweden', 'France', 'Russia', 'Italy', 'Slovenia', 'Finland', 'Spain',\n",
       "       'Switzerland', 'Hungary', 'Malta', 'Denmark', 'Netherlands',\n",
       "       'San Marino', 'United Kingdom'],\n",
       "      dtype='object')"
      ]
     },
     "execution_count": 35,
     "metadata": {},
     "output_type": "execute_result"
    }
   ],
   "source": [
    "data.columns"
   ]
  },
  {
   "cell_type": "code",
   "execution_count": 36,
   "metadata": {
    "collapsed": false
   },
   "outputs": [
    {
     "data": {
      "text/plain": [
       "Index(['Albania', 'Armenia', 'Austria', 'Azerbaijan', 'Belarus', 'Belgium',\n",
       "       'Denmark', 'Estonia', 'Finland', 'France', 'Georgia', 'Germany',\n",
       "       'Greece', 'Hungary', 'Iceland', 'Ireland', 'Israel', 'Italy', 'Latvia',\n",
       "       'Lithuania', 'Macedonia', 'Malta', 'Moldova', 'Montenegro',\n",
       "       'Netherlands', 'Norway', 'Poland', 'Portugal', 'Romania', 'Russia',\n",
       "       'San Marino', 'Slovenia', 'Spain', 'Sweden', 'Switzerland', 'Ukraine',\n",
       "       'United Kingdom'],\n",
       "      dtype='object', name='0')"
      ]
     },
     "execution_count": 36,
     "metadata": {},
     "output_type": "execute_result"
    }
   ],
   "source": [
    "data.index"
   ]
  },
  {
   "cell_type": "markdown",
   "metadata": {},
   "source": [
    "### K-means"
   ]
  },
  {
   "cell_type": "code",
   "execution_count": 38,
   "metadata": {
    "collapsed": true
   },
   "outputs": [],
   "source": [
    "c_min = 3\n",
    "c_max = 30\n",
    "inertia = []\n",
    "sil_score = []\n",
    "#scaler = StandardScaler()\n",
    "#data_scaled = scaler.fit_transform(data)\n",
    "\n",
    "for cluster in range(c_min,c_max):\n",
    "    kmeans = KMeans(cluster)\n",
    "    kmeans_labels = kmeans.fit_predict(data)\n",
    "    sil = silhouette_score(data,kmeans_labels)\n",
    "    inertia.append(kmeans.inertia_)\n",
    "    sil_score.append(sil)"
   ]
  },
  {
   "cell_type": "code",
   "execution_count": 11,
   "metadata": {
    "collapsed": false
   },
   "outputs": [
    {
     "data": {
      "text/plain": [
       "<contextlib._GeneratorContextManager at 0x7efd8537ab38>"
      ]
     },
     "execution_count": 11,
     "metadata": {},
     "output_type": "execute_result"
    }
   ],
   "source": [
    "plt.style.context('ggplot')"
   ]
  },
  {
   "cell_type": "code",
   "execution_count": 39,
   "metadata": {
    "collapsed": false
   },
   "outputs": [
    {
     "data": {
      "image/png": "[encoded data removed]",
      "text/plain": [
       "<matplotlib.figure.Figure at 0x7efd81b81f98>"
      ]
     },
     "metadata": {},
     "output_type": "display_data"
    }
   ],
   "source": [
    "plt.plot(np.arange(c_min,c_max),inertia,'o-')\n",
    "plt.xlabel('Number of clusters')\n",
    "plt.xticks(np.arange(c_min,c_max,2))\n",
    "plt.ylabel('Inertia')\n",
    "plt.show()"
   ]
  },
  {
   "cell_type": "code",
   "execution_count": 40,
   "metadata": {
    "collapsed": false
   },
   "outputs": [
    {
     "data": {
      "image/png": "[encoded data removed]",
      "text/plain": [
       "<matplotlib.figure.Figure at 0x7efd81988a20>"
      ]
     },
     "metadata": {},
     "output_type": "display_data"
    }
   ],
   "source": [
    "plt.figure(figsize=(12,8))\n",
    "plt.plot(np.arange(c_min,c_max),sil_score,'o-')\n",
    "plt.xlabel('Number of clusters')\n",
    "plt.ylabel('Shilouette score')\n",
    "plt.xticks(np.arange(c_min,c_max,1))\n",
    "plt.show()"
   ]
  },
  {
   "cell_type": "code",
   "execution_count": 41,
   "metadata": {
    "collapsed": true
   },
   "outputs": [],
   "source": [
    "k_opt = 10\n",
    "kmeans = KMeans(k_opt)\n",
    "kmeans_labels = kmeans.fit_predict(data)"
   ]
  },
  {
   "cell_type": "code",
   "execution_count": 42,
   "metadata": {
    "collapsed": false
   },
   "outputs": [
    {
     "data": {
      "text/plain": [
       "array([3, 7, 0, 5, 5, 1, 6, 1, 9, 1, 4, 2, 4, 0, 4, 1, 1, 3, 4, 1, 1, 3, 5,\n",
       "       9, 6, 1, 1, 3, 5, 8, 1, 1, 4, 1, 4, 2, 6], dtype=int32)"
      ]
     },
     "execution_count": 42,
     "metadata": {},
     "output_type": "execute_result"
    }
   ],
   "source": [
    "kmeans_labels"
   ]
  },
  {
   "cell_type": "code",
   "execution_count": 43,
   "metadata": {
    "collapsed": false
   },
   "outputs": [],
   "source": [
    "data['cluster'] = kmeans_labels"
   ]
  },
  {
   "cell_type": "code",
   "execution_count": 44,
   "metadata": {
    "collapsed": false
   },
   "outputs": [
    {
     "name": "stdout",
     "output_type": "stream",
     "text": [
      "['Austria' 'Hungary']\n",
      "['Belgium' 'Estonia' 'France' 'Ireland' 'Israel' 'Lithuania' 'Macedonia'\n",
      " 'Norway' 'Poland' 'San Marino' 'Slovenia' 'Sweden']\n",
      "['Germany' 'Ukraine']\n",
      "['Albania' 'Italy' 'Malta' 'Portugal']\n",
      "['Georgia' 'Greece' 'Iceland' 'Latvia' 'Spain' 'Switzerland']\n",
      "['Azerbaijan' 'Belarus' 'Moldova' 'Romania']\n",
      "['Denmark' 'Netherlands' 'United Kingdom']\n",
      "['Armenia']\n",
      "['Russia']\n",
      "['Finland' 'Montenegro']\n"
     ]
    }
   ],
   "source": [
    "for cluster in range(k_opt):\n",
    "    #print('Cluster {}'.format(cluster))\n",
    "    print(np.array(data[data.cluster == cluster].index))"
   ]
  },
  {
   "cell_type": "markdown",
   "metadata": {},
   "source": [
    "### Hierarchical clustering"
   ]
  },
  {
   "cell_type": "code",
   "execution_count": 45,
   "metadata": {
    "collapsed": false
   },
   "outputs": [],
   "source": [
    "data.drop('cluster',axis=1,inplace=True)"
   ]
  },
  {
   "cell_type": "code",
   "execution_count": 46,
   "metadata": {
    "collapsed": false
   },
   "outputs": [
    {
     "data": {
      "text/html": [
       "<div>\n",
       "<table border=\"1\" class=\"dataframe\">\n",
       "  <thead>\n",
       "    <tr style=\"text-align: right;\">\n",
       "      <th></th>\n",
       "      <th>Ukraine</th>\n",
       "      <th>Belarus</th>\n",
       "      <th>Azerbaijan</th>\n",
       "      <th>Iceland</th>\n",
       "      <th>Norway</th>\n",
       "      <th>Romania</th>\n",
       "      <th>Armenia</th>\n",
       "      <th>Montenegro</th>\n",
       "      <th>Greece</th>\n",
       "      <th>Poland</th>\n",
       "      <th>...</th>\n",
       "      <th>Slovenia</th>\n",
       "      <th>Finland</th>\n",
       "      <th>Spain</th>\n",
       "      <th>Switzerland</th>\n",
       "      <th>Hungary</th>\n",
       "      <th>Malta</th>\n",
       "      <th>Denmark</th>\n",
       "      <th>Netherlands</th>\n",
       "      <th>San Marino</th>\n",
       "      <th>United Kingdom</th>\n",
       "    </tr>\n",
       "    <tr>\n",
       "      <th>0</th>\n",
       "      <th></th>\n",
       "      <th></th>\n",
       "      <th></th>\n",
       "      <th></th>\n",
       "      <th></th>\n",
       "      <th></th>\n",
       "      <th></th>\n",
       "      <th></th>\n",
       "      <th></th>\n",
       "      <th></th>\n",
       "      <th></th>\n",
       "      <th></th>\n",
       "      <th></th>\n",
       "      <th></th>\n",
       "      <th></th>\n",
       "      <th></th>\n",
       "      <th></th>\n",
       "      <th></th>\n",
       "      <th></th>\n",
       "      <th></th>\n",
       "      <th></th>\n",
       "    </tr>\n",
       "  </thead>\n",
       "  <tbody>\n",
       "    <tr>\n",
       "      <th>Albania</th>\n",
       "      <td>0.000000</td>\n",
       "      <td>0.000000</td>\n",
       "      <td>0.000000</td>\n",
       "      <td>0.000000</td>\n",
       "      <td>0.000000</td>\n",
       "      <td>0.000000</td>\n",
       "      <td>0.000000</td>\n",
       "      <td>0.085714</td>\n",
       "      <td>0.000000</td>\n",
       "      <td>0.028571</td>\n",
       "      <td>...</td>\n",
       "      <td>0.0</td>\n",
       "      <td>0.000000</td>\n",
       "      <td>0.171429</td>\n",
       "      <td>0.000000</td>\n",
       "      <td>0.125000</td>\n",
       "      <td>0.014286</td>\n",
       "      <td>0.000000</td>\n",
       "      <td>0.000000</td>\n",
       "      <td>0.042857</td>\n",
       "      <td>0.0</td>\n",
       "    </tr>\n",
       "    <tr>\n",
       "      <th>Armenia</th>\n",
       "      <td>0.000000</td>\n",
       "      <td>0.114286</td>\n",
       "      <td>0.000000</td>\n",
       "      <td>0.000000</td>\n",
       "      <td>0.000000</td>\n",
       "      <td>0.000000</td>\n",
       "      <td>0.171429</td>\n",
       "      <td>0.171429</td>\n",
       "      <td>0.000000</td>\n",
       "      <td>0.100000</td>\n",
       "      <td>...</td>\n",
       "      <td>0.0</td>\n",
       "      <td>0.000000</td>\n",
       "      <td>0.028571</td>\n",
       "      <td>0.074627</td>\n",
       "      <td>0.000000</td>\n",
       "      <td>0.000000</td>\n",
       "      <td>0.014286</td>\n",
       "      <td>0.068966</td>\n",
       "      <td>0.042857</td>\n",
       "      <td>0.0</td>\n",
       "    </tr>\n",
       "    <tr>\n",
       "      <th>Austria</th>\n",
       "      <td>0.071429</td>\n",
       "      <td>0.000000</td>\n",
       "      <td>0.000000</td>\n",
       "      <td>0.030769</td>\n",
       "      <td>0.015873</td>\n",
       "      <td>0.114286</td>\n",
       "      <td>0.171429</td>\n",
       "      <td>0.000000</td>\n",
       "      <td>0.000000</td>\n",
       "      <td>0.000000</td>\n",
       "      <td>...</td>\n",
       "      <td>0.0</td>\n",
       "      <td>0.057143</td>\n",
       "      <td>0.000000</td>\n",
       "      <td>0.044776</td>\n",
       "      <td>0.109375</td>\n",
       "      <td>0.000000</td>\n",
       "      <td>0.000000</td>\n",
       "      <td>0.172414</td>\n",
       "      <td>0.000000</td>\n",
       "      <td>0.0</td>\n",
       "    </tr>\n",
       "    <tr>\n",
       "      <th>Azerbaijan</th>\n",
       "      <td>0.142857</td>\n",
       "      <td>0.100000</td>\n",
       "      <td>0.171429</td>\n",
       "      <td>0.000000</td>\n",
       "      <td>0.000000</td>\n",
       "      <td>0.085714</td>\n",
       "      <td>0.000000</td>\n",
       "      <td>0.000000</td>\n",
       "      <td>0.033333</td>\n",
       "      <td>0.057143</td>\n",
       "      <td>...</td>\n",
       "      <td>0.0</td>\n",
       "      <td>0.000000</td>\n",
       "      <td>0.000000</td>\n",
       "      <td>0.000000</td>\n",
       "      <td>0.125000</td>\n",
       "      <td>0.071429</td>\n",
       "      <td>0.000000</td>\n",
       "      <td>0.000000</td>\n",
       "      <td>0.042857</td>\n",
       "      <td>0.0</td>\n",
       "    </tr>\n",
       "    <tr>\n",
       "      <th>Belarus</th>\n",
       "      <td>0.114286</td>\n",
       "      <td>0.171429</td>\n",
       "      <td>0.042857</td>\n",
       "      <td>0.000000</td>\n",
       "      <td>0.063492</td>\n",
       "      <td>0.014286</td>\n",
       "      <td>0.142857</td>\n",
       "      <td>0.000000</td>\n",
       "      <td>0.116667</td>\n",
       "      <td>0.085714</td>\n",
       "      <td>...</td>\n",
       "      <td>0.0</td>\n",
       "      <td>0.000000</td>\n",
       "      <td>0.000000</td>\n",
       "      <td>0.000000</td>\n",
       "      <td>0.078125</td>\n",
       "      <td>0.000000</td>\n",
       "      <td>0.000000</td>\n",
       "      <td>0.034483</td>\n",
       "      <td>0.000000</td>\n",
       "      <td>0.0</td>\n",
       "    </tr>\n",
       "  </tbody>\n",
       "</table>\n",
       "<p>5 rows × 26 columns</p>\n",
       "</div>"
      ],
      "text/plain": [
       "             Ukraine   Belarus  Azerbaijan   Iceland    Norway   Romania  \\\n",
       "0                                                                          \n",
       "Albania     0.000000  0.000000    0.000000  0.000000  0.000000  0.000000   \n",
       "Armenia     0.000000  0.114286    0.000000  0.000000  0.000000  0.000000   \n",
       "Austria     0.071429  0.000000    0.000000  0.030769  0.015873  0.114286   \n",
       "Azerbaijan  0.142857  0.100000    0.171429  0.000000  0.000000  0.085714   \n",
       "Belarus     0.114286  0.171429    0.042857  0.000000  0.063492  0.014286   \n",
       "\n",
       "             Armenia  Montenegro    Greece    Poland       ...        \\\n",
       "0                                                          ...         \n",
       "Albania     0.000000    0.085714  0.000000  0.028571       ...         \n",
       "Armenia     0.171429    0.171429  0.000000  0.100000       ...         \n",
       "Austria     0.171429    0.000000  0.000000  0.000000       ...         \n",
       "Azerbaijan  0.000000    0.000000  0.033333  0.057143       ...         \n",
       "Belarus     0.142857    0.000000  0.116667  0.085714       ...         \n",
       "\n",
       "            Slovenia   Finland     Spain  Switzerland   Hungary     Malta  \\\n",
       "0                                                                           \n",
       "Albania          0.0  0.000000  0.171429     0.000000  0.125000  0.014286   \n",
       "Armenia          0.0  0.000000  0.028571     0.074627  0.000000  0.000000   \n",
       "Austria          0.0  0.057143  0.000000     0.044776  0.109375  0.000000   \n",
       "Azerbaijan       0.0  0.000000  0.000000     0.000000  0.125000  0.071429   \n",
       "Belarus          0.0  0.000000  0.000000     0.000000  0.078125  0.000000   \n",
       "\n",
       "             Denmark  Netherlands  San Marino  United Kingdom  \n",
       "0                                                              \n",
       "Albania     0.000000     0.000000    0.042857             0.0  \n",
       "Armenia     0.014286     0.068966    0.042857             0.0  \n",
       "Austria     0.000000     0.172414    0.000000             0.0  \n",
       "Azerbaijan  0.000000     0.000000    0.042857             0.0  \n",
       "Belarus     0.000000     0.034483    0.000000             0.0  \n",
       "\n",
       "[5 rows x 26 columns]"
      ]
     },
     "execution_count": 46,
     "metadata": {},
     "output_type": "execute_result"
    }
   ],
   "source": [
    "data.head()"
   ]
  },
  {
   "cell_type": "code",
   "execution_count": 47,
   "metadata": {
    "collapsed": false
   },
   "outputs": [],
   "source": [
    "link_ward = linkage(data,'ward')"
   ]
  },
  {
   "cell_type": "code",
   "execution_count": 48,
   "metadata": {
    "collapsed": false
   },
   "outputs": [
    {
     "data": {
      "image/png": "[encoded data removed]",
      "text/plain": [
       "<matplotlib.figure.Figure at 0x7efd81a044e0>"
      ]
     },
     "metadata": {},
     "output_type": "display_data"
    }
   ],
   "source": [
    "plt.figure(figsize=(16,8))\n",
    "dendrogram(link_ward,labels=data.index,leaf_font_size=10)\n",
    "plt.show();"
   ]
  },
  {
   "cell_type": "code",
   "execution_count": 49,
   "metadata": {
    "collapsed": true
   },
   "outputs": [],
   "source": [
    "t = 11\n",
    "hier_labels = fcluster(link_ward,t=t,criterion='maxclust')\n",
    "data['cluster'] = hier_labels-1"
   ]
  },
  {
   "cell_type": "code",
   "execution_count": 50,
   "metadata": {
    "collapsed": false
   },
   "outputs": [
    {
     "name": "stdout",
     "output_type": "stream",
     "text": [
      "['Georgia' 'Greece' 'Spain']\n",
      "['Iceland' 'Latvia' 'Netherlands' 'United Kingdom']\n",
      "['Israel' 'Macedonia' 'Norway' 'San Marino' 'Sweden']\n",
      "['Belgium' 'Denmark' 'France' 'Ireland' 'Slovenia']\n",
      "['Austria' 'Estonia' 'Hungary' 'Lithuania']\n",
      "['Poland' 'Portugal' 'Switzerland']\n",
      "['Azerbaijan' 'Belarus' 'Moldova' 'Romania']\n",
      "['Germany' 'Ukraine']\n",
      "['Russia']\n",
      "['Albania' 'Italy' 'Malta']\n",
      "['Armenia' 'Finland' 'Montenegro']\n"
     ]
    }
   ],
   "source": [
    "for cluster in range(t):\n",
    "    print(np.array(data[data.cluster == cluster].index))"
   ]
  },
  {
   "cell_type": "code",
   "execution_count": null,
   "metadata": {
    "collapsed": true
   },
   "outputs": [],
   "source": []
  }
 ],
 "metadata": {
  "kernelspec": {
   "display_name": "Python 3",
   "language": "python",
   "name": "python3"
  },
  "language_info": {
   "codemirror_mode": {
    "name": "ipython",
    "version": 3
   },
   "file_extension": ".py",
   "mimetype": "text/x-python",
   "name": "python",
   "nbconvert_exporter": "python",
   "pygments_lexer": "ipython3",
   "version": "3.6.0"
  }
 },
 "nbformat": 4,
 "nbformat_minor": 2
}
