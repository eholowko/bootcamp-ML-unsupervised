{
 "cells": [
  {
   "cell_type": "code",
   "execution_count": 280,
   "metadata": {
    "collapsed": false
   },
   "outputs": [],
   "source": [
    "import numpy as np\n",
    "import pandas as pd\n",
    "import matplotlib.pyplot as plt\n",
    "import seaborn as sns\n",
    "from sklearn.cluster import KMeans\n",
    "from scipy.cluster.hierarchy import linkage,dendrogram,fcluster\n",
    "from sklearn.cluster import DBSCAN\n",
    "from sklearn.metrics import silhouette_score\n",
    "from sklearn.preprocessing import StandardScaler \n",
    "from sklearn.metrics.pairwise import euclidean_distances"
   ]
  },
  {
   "cell_type": "markdown",
   "metadata": {},
   "source": [
    "## Eurovision voting results"
   ]
  },
  {
   "cell_type": "markdown",
   "metadata": {},
   "source": [
    "Dane zawierają wyniki głosowania na piosenki z konkursu Eurowizji 2014. Mamy informację o tym kto (jaki kraj) na kogo głosował. Sprawdźmy, czy jesteśmy w stanie znaleźć grupy piosenek, które podobały się oceniającym z tych samych krajów (czyli po prostu podobnych według naszych danych). Być może kraje podobne do siebie kulturowo/etnicznie znajdą się w tych samych grupach.  \n",
    "\n",
    "Uwaga: założenie głosowania - nie można głosować na swój kraj. \n",
    "\n",
    "\n",
    "Przetestuj różne metody klastrowania."
   ]
  },
  {
   "cell_type": "code",
   "execution_count": 198,
   "metadata": {
    "collapsed": false
   },
   "outputs": [],
   "source": [
    "data = pd.read_csv(\"Data/eurowizja.csv\")\n",
    "data.set_index(data.columns[0],inplace=True)"
   ]
  },
  {
   "cell_type": "code",
   "execution_count": 199,
   "metadata": {
    "collapsed": false
   },
   "outputs": [
    {
     "data": {
      "text/html": [
       "<div>\n",
       "<table border=\"1\" class=\"dataframe\">\n",
       "  <thead>\n",
       "    <tr style=\"text-align: right;\">\n",
       "      <th></th>\n",
       "      <th>Ukraine</th>\n",
       "      <th>Belarus</th>\n",
       "      <th>Azerbaijan</th>\n",
       "      <th>Iceland</th>\n",
       "      <th>Norway</th>\n",
       "      <th>Romania</th>\n",
       "      <th>Armenia</th>\n",
       "      <th>Montenegro</th>\n",
       "      <th>Greece</th>\n",
       "      <th>Poland</th>\n",
       "      <th>...</th>\n",
       "      <th>Slovenia</th>\n",
       "      <th>Finland</th>\n",
       "      <th>Spain</th>\n",
       "      <th>Switzerland</th>\n",
       "      <th>Hungary</th>\n",
       "      <th>Malta</th>\n",
       "      <th>Denmark</th>\n",
       "      <th>Netherlands</th>\n",
       "      <th>San Marino</th>\n",
       "      <th>United Kingdom</th>\n",
       "    </tr>\n",
       "    <tr>\n",
       "      <th>0</th>\n",
       "      <th></th>\n",
       "      <th></th>\n",
       "      <th></th>\n",
       "      <th></th>\n",
       "      <th></th>\n",
       "      <th></th>\n",
       "      <th></th>\n",
       "      <th></th>\n",
       "      <th></th>\n",
       "      <th></th>\n",
       "      <th></th>\n",
       "      <th></th>\n",
       "      <th></th>\n",
       "      <th></th>\n",
       "      <th></th>\n",
       "      <th></th>\n",
       "      <th></th>\n",
       "      <th></th>\n",
       "      <th></th>\n",
       "      <th></th>\n",
       "      <th></th>\n",
       "    </tr>\n",
       "  </thead>\n",
       "  <tbody>\n",
       "    <tr>\n",
       "      <th>Albania</th>\n",
       "      <td>0</td>\n",
       "      <td>0</td>\n",
       "      <td>0</td>\n",
       "      <td>0</td>\n",
       "      <td>0</td>\n",
       "      <td>0</td>\n",
       "      <td>0</td>\n",
       "      <td>6</td>\n",
       "      <td>0</td>\n",
       "      <td>2</td>\n",
       "      <td>...</td>\n",
       "      <td>0</td>\n",
       "      <td>0</td>\n",
       "      <td>12</td>\n",
       "      <td>0</td>\n",
       "      <td>8</td>\n",
       "      <td>1</td>\n",
       "      <td>0</td>\n",
       "      <td>0</td>\n",
       "      <td>3</td>\n",
       "      <td>0</td>\n",
       "    </tr>\n",
       "    <tr>\n",
       "      <th>Armenia</th>\n",
       "      <td>0</td>\n",
       "      <td>8</td>\n",
       "      <td>0</td>\n",
       "      <td>0</td>\n",
       "      <td>0</td>\n",
       "      <td>0</td>\n",
       "      <td>0</td>\n",
       "      <td>12</td>\n",
       "      <td>0</td>\n",
       "      <td>7</td>\n",
       "      <td>...</td>\n",
       "      <td>0</td>\n",
       "      <td>0</td>\n",
       "      <td>2</td>\n",
       "      <td>5</td>\n",
       "      <td>0</td>\n",
       "      <td>0</td>\n",
       "      <td>1</td>\n",
       "      <td>4</td>\n",
       "      <td>3</td>\n",
       "      <td>0</td>\n",
       "    </tr>\n",
       "    <tr>\n",
       "      <th>Austria</th>\n",
       "      <td>5</td>\n",
       "      <td>0</td>\n",
       "      <td>0</td>\n",
       "      <td>2</td>\n",
       "      <td>1</td>\n",
       "      <td>8</td>\n",
       "      <td>12</td>\n",
       "      <td>0</td>\n",
       "      <td>0</td>\n",
       "      <td>0</td>\n",
       "      <td>...</td>\n",
       "      <td>0</td>\n",
       "      <td>4</td>\n",
       "      <td>0</td>\n",
       "      <td>3</td>\n",
       "      <td>7</td>\n",
       "      <td>0</td>\n",
       "      <td>0</td>\n",
       "      <td>10</td>\n",
       "      <td>0</td>\n",
       "      <td>0</td>\n",
       "    </tr>\n",
       "    <tr>\n",
       "      <th>Azerbaijan</th>\n",
       "      <td>10</td>\n",
       "      <td>7</td>\n",
       "      <td>0</td>\n",
       "      <td>0</td>\n",
       "      <td>0</td>\n",
       "      <td>6</td>\n",
       "      <td>0</td>\n",
       "      <td>0</td>\n",
       "      <td>2</td>\n",
       "      <td>4</td>\n",
       "      <td>...</td>\n",
       "      <td>0</td>\n",
       "      <td>0</td>\n",
       "      <td>0</td>\n",
       "      <td>0</td>\n",
       "      <td>8</td>\n",
       "      <td>5</td>\n",
       "      <td>0</td>\n",
       "      <td>0</td>\n",
       "      <td>3</td>\n",
       "      <td>0</td>\n",
       "    </tr>\n",
       "    <tr>\n",
       "      <th>Belarus</th>\n",
       "      <td>8</td>\n",
       "      <td>0</td>\n",
       "      <td>3</td>\n",
       "      <td>0</td>\n",
       "      <td>4</td>\n",
       "      <td>1</td>\n",
       "      <td>10</td>\n",
       "      <td>0</td>\n",
       "      <td>7</td>\n",
       "      <td>6</td>\n",
       "      <td>...</td>\n",
       "      <td>0</td>\n",
       "      <td>0</td>\n",
       "      <td>0</td>\n",
       "      <td>0</td>\n",
       "      <td>5</td>\n",
       "      <td>0</td>\n",
       "      <td>0</td>\n",
       "      <td>2</td>\n",
       "      <td>0</td>\n",
       "      <td>0</td>\n",
       "    </tr>\n",
       "  </tbody>\n",
       "</table>\n",
       "<p>5 rows × 26 columns</p>\n",
       "</div>"
      ],
      "text/plain": [
       "            Ukraine  Belarus  Azerbaijan  Iceland  Norway  Romania  Armenia  \\\n",
       "0                                                                             \n",
       "Albania           0        0           0        0       0        0        0   \n",
       "Armenia           0        8           0        0       0        0        0   \n",
       "Austria           5        0           0        2       1        8       12   \n",
       "Azerbaijan       10        7           0        0       0        6        0   \n",
       "Belarus           8        0           3        0       4        1       10   \n",
       "\n",
       "            Montenegro  Greece  Poland       ...        Slovenia  Finland  \\\n",
       "0                                            ...                            \n",
       "Albania              6       0       2       ...               0        0   \n",
       "Armenia             12       0       7       ...               0        0   \n",
       "Austria              0       0       0       ...               0        4   \n",
       "Azerbaijan           0       2       4       ...               0        0   \n",
       "Belarus              0       7       6       ...               0        0   \n",
       "\n",
       "            Spain  Switzerland  Hungary  Malta  Denmark  Netherlands  \\\n",
       "0                                                                      \n",
       "Albania        12            0        8      1        0            0   \n",
       "Armenia         2            5        0      0        1            4   \n",
       "Austria         0            3        7      0        0           10   \n",
       "Azerbaijan      0            0        8      5        0            0   \n",
       "Belarus         0            0        5      0        0            2   \n",
       "\n",
       "            San Marino  United Kingdom  \n",
       "0                                       \n",
       "Albania              3               0  \n",
       "Armenia              3               0  \n",
       "Austria              0               0  \n",
       "Azerbaijan           3               0  \n",
       "Belarus              0               0  \n",
       "\n",
       "[5 rows x 26 columns]"
      ]
     },
     "execution_count": 199,
     "metadata": {},
     "output_type": "execute_result"
    }
   ],
   "source": [
    "data.head()"
   ]
  },
  {
   "cell_type": "markdown",
   "metadata": {},
   "source": [
    "kraje nie mogą głosowaćna siebie, ale gdyby mogły dały by sobie max punktów"
   ]
  },
  {
   "cell_type": "code",
   "execution_count": 200,
   "metadata": {
    "collapsed": false
   },
   "outputs": [],
   "source": [
    "for ind in range(data.shape[0]):\n",
    "    country = data.index[ind]\n",
    "    if country in data.columns:\n",
    "        data[country][ind] = 12"
   ]
  },
  {
   "cell_type": "code",
   "execution_count": 201,
   "metadata": {
    "collapsed": false
   },
   "outputs": [
    {
     "name": "stdout",
     "output_type": "stream",
     "text": [
      "Finland\n"
     ]
    },
    {
     "data": {
      "text/plain": [
       "Ukraine            0\n",
       "Belarus            0\n",
       "Azerbaijan         0\n",
       "Iceland            0\n",
       "Norway             0\n",
       "Romania            4\n",
       "Armenia            8\n",
       "Montenegro        12\n",
       "Greece             5\n",
       "Poland             0\n",
       "Austria            3\n",
       "Germany            0\n",
       "Sweden             0\n",
       "France             0\n",
       "Russia             6\n",
       "Italy              2\n",
       "Slovenia           1\n",
       "Finland           12\n",
       "Spain              0\n",
       "Switzerland        0\n",
       "Hungary           10\n",
       "Malta              0\n",
       "Denmark            0\n",
       "Netherlands        7\n",
       "San Marino         0\n",
       "United Kingdom     0\n",
       "Name: Finland, dtype: int64"
      ]
     },
     "execution_count": 201,
     "metadata": {},
     "output_type": "execute_result"
    }
   ],
   "source": [
    "ind = 8\n",
    "print(data.index[ind])\n",
    "data.iloc[ind,:]"
   ]
  },
  {
   "cell_type": "code",
   "execution_count": 202,
   "metadata": {
    "collapsed": false
   },
   "outputs": [
    {
     "data": {
      "text/plain": [
       "(37, 26)"
      ]
     },
     "execution_count": 202,
     "metadata": {},
     "output_type": "execute_result"
    }
   ],
   "source": [
    "data.shape"
   ]
  },
  {
   "cell_type": "code",
   "execution_count": 203,
   "metadata": {
    "collapsed": false
   },
   "outputs": [
    {
     "data": {
      "text/html": [
       "<div>\n",
       "<table border=\"1\" class=\"dataframe\">\n",
       "  <thead>\n",
       "    <tr style=\"text-align: right;\">\n",
       "      <th></th>\n",
       "      <th>Ukraine</th>\n",
       "      <th>Belarus</th>\n",
       "      <th>Azerbaijan</th>\n",
       "      <th>Iceland</th>\n",
       "      <th>Norway</th>\n",
       "      <th>Romania</th>\n",
       "      <th>Armenia</th>\n",
       "      <th>Montenegro</th>\n",
       "      <th>Greece</th>\n",
       "      <th>Poland</th>\n",
       "      <th>...</th>\n",
       "      <th>Slovenia</th>\n",
       "      <th>Finland</th>\n",
       "      <th>Spain</th>\n",
       "      <th>Switzerland</th>\n",
       "      <th>Hungary</th>\n",
       "      <th>Malta</th>\n",
       "      <th>Denmark</th>\n",
       "      <th>Netherlands</th>\n",
       "      <th>San Marino</th>\n",
       "      <th>United Kingdom</th>\n",
       "    </tr>\n",
       "  </thead>\n",
       "  <tbody>\n",
       "    <tr>\n",
       "      <th>count</th>\n",
       "      <td>37.000000</td>\n",
       "      <td>37.000000</td>\n",
       "      <td>37.000000</td>\n",
       "      <td>37.000000</td>\n",
       "      <td>37.000000</td>\n",
       "      <td>37.000000</td>\n",
       "      <td>37.000000</td>\n",
       "      <td>37.000000</td>\n",
       "      <td>37.000000</td>\n",
       "      <td>37.000000</td>\n",
       "      <td>...</td>\n",
       "      <td>37.000000</td>\n",
       "      <td>37.000000</td>\n",
       "      <td>37.000000</td>\n",
       "      <td>37.000000</td>\n",
       "      <td>37.000000</td>\n",
       "      <td>37.000000</td>\n",
       "      <td>37.000000</td>\n",
       "      <td>37.000000</td>\n",
       "      <td>37.000000</td>\n",
       "      <td>37.000000</td>\n",
       "    </tr>\n",
       "    <tr>\n",
       "      <th>mean</th>\n",
       "      <td>3.378378</td>\n",
       "      <td>1.486486</td>\n",
       "      <td>1.216216</td>\n",
       "      <td>1.756757</td>\n",
       "      <td>2.513514</td>\n",
       "      <td>2.270270</td>\n",
       "      <td>5.027027</td>\n",
       "      <td>1.324324</td>\n",
       "      <td>1.729730</td>\n",
       "      <td>1.270270</td>\n",
       "      <td>...</td>\n",
       "      <td>0.567568</td>\n",
       "      <td>2.270270</td>\n",
       "      <td>2.324324</td>\n",
       "      <td>1.972973</td>\n",
       "      <td>4.027027</td>\n",
       "      <td>1.189189</td>\n",
       "      <td>2.324324</td>\n",
       "      <td>6.432432</td>\n",
       "      <td>0.702703</td>\n",
       "      <td>1.405405</td>\n",
       "    </tr>\n",
       "    <tr>\n",
       "      <th>std</th>\n",
       "      <td>3.795841</td>\n",
       "      <td>3.296645</td>\n",
       "      <td>3.300969</td>\n",
       "      <td>3.031368</td>\n",
       "      <td>3.211279</td>\n",
       "      <td>3.641189</td>\n",
       "      <td>4.166577</td>\n",
       "      <td>3.543806</td>\n",
       "      <td>2.873719</td>\n",
       "      <td>2.578206</td>\n",
       "      <td>...</td>\n",
       "      <td>2.339759</td>\n",
       "      <td>2.940603</td>\n",
       "      <td>3.266446</td>\n",
       "      <td>2.995241</td>\n",
       "      <td>3.818715</td>\n",
       "      <td>2.777267</td>\n",
       "      <td>3.171523</td>\n",
       "      <td>4.705437</td>\n",
       "      <td>2.171339</td>\n",
       "      <td>2.813257</td>\n",
       "    </tr>\n",
       "    <tr>\n",
       "      <th>min</th>\n",
       "      <td>0.000000</td>\n",
       "      <td>0.000000</td>\n",
       "      <td>0.000000</td>\n",
       "      <td>0.000000</td>\n",
       "      <td>0.000000</td>\n",
       "      <td>0.000000</td>\n",
       "      <td>0.000000</td>\n",
       "      <td>0.000000</td>\n",
       "      <td>0.000000</td>\n",
       "      <td>0.000000</td>\n",
       "      <td>...</td>\n",
       "      <td>0.000000</td>\n",
       "      <td>0.000000</td>\n",
       "      <td>0.000000</td>\n",
       "      <td>0.000000</td>\n",
       "      <td>0.000000</td>\n",
       "      <td>0.000000</td>\n",
       "      <td>0.000000</td>\n",
       "      <td>0.000000</td>\n",
       "      <td>0.000000</td>\n",
       "      <td>0.000000</td>\n",
       "    </tr>\n",
       "    <tr>\n",
       "      <th>25%</th>\n",
       "      <td>0.000000</td>\n",
       "      <td>0.000000</td>\n",
       "      <td>0.000000</td>\n",
       "      <td>0.000000</td>\n",
       "      <td>0.000000</td>\n",
       "      <td>0.000000</td>\n",
       "      <td>0.000000</td>\n",
       "      <td>0.000000</td>\n",
       "      <td>0.000000</td>\n",
       "      <td>0.000000</td>\n",
       "      <td>...</td>\n",
       "      <td>0.000000</td>\n",
       "      <td>0.000000</td>\n",
       "      <td>0.000000</td>\n",
       "      <td>0.000000</td>\n",
       "      <td>0.000000</td>\n",
       "      <td>0.000000</td>\n",
       "      <td>0.000000</td>\n",
       "      <td>2.000000</td>\n",
       "      <td>0.000000</td>\n",
       "      <td>0.000000</td>\n",
       "    </tr>\n",
       "    <tr>\n",
       "      <th>50%</th>\n",
       "      <td>2.000000</td>\n",
       "      <td>0.000000</td>\n",
       "      <td>0.000000</td>\n",
       "      <td>0.000000</td>\n",
       "      <td>1.000000</td>\n",
       "      <td>0.000000</td>\n",
       "      <td>5.000000</td>\n",
       "      <td>0.000000</td>\n",
       "      <td>0.000000</td>\n",
       "      <td>0.000000</td>\n",
       "      <td>...</td>\n",
       "      <td>0.000000</td>\n",
       "      <td>0.000000</td>\n",
       "      <td>0.000000</td>\n",
       "      <td>0.000000</td>\n",
       "      <td>4.000000</td>\n",
       "      <td>0.000000</td>\n",
       "      <td>1.000000</td>\n",
       "      <td>8.000000</td>\n",
       "      <td>0.000000</td>\n",
       "      <td>0.000000</td>\n",
       "    </tr>\n",
       "    <tr>\n",
       "      <th>75%</th>\n",
       "      <td>6.000000</td>\n",
       "      <td>0.000000</td>\n",
       "      <td>0.000000</td>\n",
       "      <td>2.000000</td>\n",
       "      <td>5.000000</td>\n",
       "      <td>4.000000</td>\n",
       "      <td>8.000000</td>\n",
       "      <td>0.000000</td>\n",
       "      <td>2.000000</td>\n",
       "      <td>2.000000</td>\n",
       "      <td>...</td>\n",
       "      <td>0.000000</td>\n",
       "      <td>4.000000</td>\n",
       "      <td>4.000000</td>\n",
       "      <td>3.000000</td>\n",
       "      <td>7.000000</td>\n",
       "      <td>0.000000</td>\n",
       "      <td>4.000000</td>\n",
       "      <td>10.000000</td>\n",
       "      <td>0.000000</td>\n",
       "      <td>1.000000</td>\n",
       "    </tr>\n",
       "    <tr>\n",
       "      <th>max</th>\n",
       "      <td>12.000000</td>\n",
       "      <td>12.000000</td>\n",
       "      <td>12.000000</td>\n",
       "      <td>12.000000</td>\n",
       "      <td>12.000000</td>\n",
       "      <td>12.000000</td>\n",
       "      <td>12.000000</td>\n",
       "      <td>12.000000</td>\n",
       "      <td>12.000000</td>\n",
       "      <td>12.000000</td>\n",
       "      <td>...</td>\n",
       "      <td>12.000000</td>\n",
       "      <td>12.000000</td>\n",
       "      <td>12.000000</td>\n",
       "      <td>12.000000</td>\n",
       "      <td>12.000000</td>\n",
       "      <td>12.000000</td>\n",
       "      <td>12.000000</td>\n",
       "      <td>12.000000</td>\n",
       "      <td>12.000000</td>\n",
       "      <td>12.000000</td>\n",
       "    </tr>\n",
       "  </tbody>\n",
       "</table>\n",
       "<p>8 rows × 26 columns</p>\n",
       "</div>"
      ],
      "text/plain": [
       "         Ukraine    Belarus  Azerbaijan    Iceland     Norway    Romania  \\\n",
       "count  37.000000  37.000000   37.000000  37.000000  37.000000  37.000000   \n",
       "mean    3.378378   1.486486    1.216216   1.756757   2.513514   2.270270   \n",
       "std     3.795841   3.296645    3.300969   3.031368   3.211279   3.641189   \n",
       "min     0.000000   0.000000    0.000000   0.000000   0.000000   0.000000   \n",
       "25%     0.000000   0.000000    0.000000   0.000000   0.000000   0.000000   \n",
       "50%     2.000000   0.000000    0.000000   0.000000   1.000000   0.000000   \n",
       "75%     6.000000   0.000000    0.000000   2.000000   5.000000   4.000000   \n",
       "max    12.000000  12.000000   12.000000  12.000000  12.000000  12.000000   \n",
       "\n",
       "         Armenia  Montenegro     Greece     Poland       ...         Slovenia  \\\n",
       "count  37.000000   37.000000  37.000000  37.000000       ...        37.000000   \n",
       "mean    5.027027    1.324324   1.729730   1.270270       ...         0.567568   \n",
       "std     4.166577    3.543806   2.873719   2.578206       ...         2.339759   \n",
       "min     0.000000    0.000000   0.000000   0.000000       ...         0.000000   \n",
       "25%     0.000000    0.000000   0.000000   0.000000       ...         0.000000   \n",
       "50%     5.000000    0.000000   0.000000   0.000000       ...         0.000000   \n",
       "75%     8.000000    0.000000   2.000000   2.000000       ...         0.000000   \n",
       "max    12.000000   12.000000  12.000000  12.000000       ...        12.000000   \n",
       "\n",
       "         Finland      Spain  Switzerland    Hungary      Malta    Denmark  \\\n",
       "count  37.000000  37.000000    37.000000  37.000000  37.000000  37.000000   \n",
       "mean    2.270270   2.324324     1.972973   4.027027   1.189189   2.324324   \n",
       "std     2.940603   3.266446     2.995241   3.818715   2.777267   3.171523   \n",
       "min     0.000000   0.000000     0.000000   0.000000   0.000000   0.000000   \n",
       "25%     0.000000   0.000000     0.000000   0.000000   0.000000   0.000000   \n",
       "50%     0.000000   0.000000     0.000000   4.000000   0.000000   1.000000   \n",
       "75%     4.000000   4.000000     3.000000   7.000000   0.000000   4.000000   \n",
       "max    12.000000  12.000000    12.000000  12.000000  12.000000  12.000000   \n",
       "\n",
       "       Netherlands  San Marino  United Kingdom  \n",
       "count    37.000000   37.000000       37.000000  \n",
       "mean      6.432432    0.702703        1.405405  \n",
       "std       4.705437    2.171339        2.813257  \n",
       "min       0.000000    0.000000        0.000000  \n",
       "25%       2.000000    0.000000        0.000000  \n",
       "50%       8.000000    0.000000        0.000000  \n",
       "75%      10.000000    0.000000        1.000000  \n",
       "max      12.000000   12.000000       12.000000  \n",
       "\n",
       "[8 rows x 26 columns]"
      ]
     },
     "execution_count": 203,
     "metadata": {},
     "output_type": "execute_result"
    }
   ],
   "source": [
    "data.describe()"
   ]
  },
  {
   "cell_type": "code",
   "execution_count": 204,
   "metadata": {
    "collapsed": false
   },
   "outputs": [
    {
     "data": {
      "text/plain": [
       "Index(['Ukraine', 'Belarus', 'Azerbaijan', 'Iceland', 'Norway', 'Romania',\n",
       "       'Armenia', 'Montenegro', 'Greece', 'Poland', 'Austria', 'Germany',\n",
       "       'Sweden', 'France', 'Russia', 'Italy', 'Slovenia', 'Finland', 'Spain',\n",
       "       'Switzerland', 'Hungary', 'Malta', 'Denmark', 'Netherlands',\n",
       "       'San Marino', 'United Kingdom'],\n",
       "      dtype='object')"
      ]
     },
     "execution_count": 204,
     "metadata": {},
     "output_type": "execute_result"
    }
   ],
   "source": [
    "data.columns"
   ]
  },
  {
   "cell_type": "code",
   "execution_count": 205,
   "metadata": {
    "collapsed": false
   },
   "outputs": [
    {
     "data": {
      "text/plain": [
       "Index(['Albania', 'Armenia', 'Austria', 'Azerbaijan', 'Belarus', 'Belgium',\n",
       "       'Denmark', 'Estonia', 'Finland', 'France', 'Georgia', 'Germany',\n",
       "       'Greece', 'Hungary', 'Iceland', 'Ireland', 'Israel', 'Italy', 'Latvia',\n",
       "       'Lithuania', 'Macedonia', 'Malta', 'Moldova', 'Montenegro',\n",
       "       'Netherlands', 'Norway', 'Poland', 'Portugal', 'Romania', 'Russia',\n",
       "       'San Marino', 'Slovenia', 'Spain', 'Sweden', 'Switzerland', 'Ukraine',\n",
       "       'United Kingdom'],\n",
       "      dtype='object', name='0')"
      ]
     },
     "execution_count": 205,
     "metadata": {},
     "output_type": "execute_result"
    }
   ],
   "source": [
    "data.index"
   ]
  },
  {
   "cell_type": "markdown",
   "metadata": {},
   "source": [
    "### K-means"
   ]
  },
  {
   "cell_type": "code",
   "execution_count": 347,
   "metadata": {
    "collapsed": true
   },
   "outputs": [],
   "source": [
    "c_min = 3\n",
    "c_max = 30\n",
    "inertia = []\n",
    "sil_score = []\n",
    "scaler = StandardScaler()\n",
    "data_scaled = scaler.fit_transform(data)\n",
    "\n",
    "for cluster in range(c_min,c_max):\n",
    "    kmeans = KMeans(cluster)\n",
    "    kmeans_labels = kmeans.fit_predict(data_scaled)\n",
    "    sil = silhouette_score(data_scaled,kmeans_labels)\n",
    "    inertia.append(kmeans.inertia_)\n",
    "    sil_score.append(sil)"
   ]
  },
  {
   "cell_type": "code",
   "execution_count": 208,
   "metadata": {
    "collapsed": false
   },
   "outputs": [
    {
     "data": {
      "text/plain": [
       "<contextlib._GeneratorContextManager at 0x7f26117646a0>"
      ]
     },
     "execution_count": 208,
     "metadata": {},
     "output_type": "execute_result"
    }
   ],
   "source": [
    "plt.style.context('ggplot')"
   ]
  },
  {
   "cell_type": "code",
   "execution_count": 348,
   "metadata": {
    "collapsed": false
   },
   "outputs": [
    {
     "data": {
      "image/png": "[encoded data removed]",
      "text/plain": [
       "<matplotlib.figure.Figure at 0x7f26110ce710>"
      ]
     },
     "metadata": {},
     "output_type": "display_data"
    }
   ],
   "source": [
    "plt.plot(np.arange(c_min,c_max),inertia,'o-')\n",
    "plt.xlabel('Number of clusters')\n",
    "plt.xticks(np.arange(c_min,c_max,2))\n",
    "plt.ylabel('Inertia')\n",
    "plt.show()"
   ]
  },
  {
   "cell_type": "code",
   "execution_count": 349,
   "metadata": {
    "collapsed": false
   },
   "outputs": [
    {
     "data": {
      "image/png": "[encoded data removed]",
      "text/plain": [
       "<matplotlib.figure.Figure at 0x7f2611821b38>"
      ]
     },
     "metadata": {},
     "output_type": "display_data"
    }
   ],
   "source": [
    "plt.figure(figsize=(12,8))\n",
    "plt.plot(np.arange(c_min,c_max),sil_score,'o-')\n",
    "plt.xlabel('Number of clusters')\n",
    "plt.ylabel('Shilouette score')\n",
    "plt.xticks(np.arange(c_min,c_max,1))\n",
    "plt.show()"
   ]
  },
  {
   "cell_type": "code",
   "execution_count": 374,
   "metadata": {
    "collapsed": true
   },
   "outputs": [],
   "source": [
    "k_opt = 6\n",
    "kmeans = KMeans(k_opt)\n",
    "kmeans_labels = kmeans.fit_predict(data)"
   ]
  },
  {
   "cell_type": "code",
   "execution_count": 375,
   "metadata": {
    "collapsed": false
   },
   "outputs": [
    {
     "data": {
      "text/plain": [
       "array([2, 4, 0, 1, 1, 3, 3, 3, 4, 3, 3, 5, 3, 0, 3, 3, 3, 2, 5, 3, 3, 2, 5,\n",
       "       4, 3, 3, 0, 0, 1, 1, 3, 3, 3, 3, 0, 5, 3], dtype=int32)"
      ]
     },
     "execution_count": 375,
     "metadata": {},
     "output_type": "execute_result"
    }
   ],
   "source": [
    "kmeans_labels"
   ]
  },
  {
   "cell_type": "code",
   "execution_count": 376,
   "metadata": {
    "collapsed": false
   },
   "outputs": [],
   "source": [
    "data['cluster'] = kmeans_labels"
   ]
  },
  {
   "cell_type": "code",
   "execution_count": 377,
   "metadata": {
    "collapsed": false
   },
   "outputs": [
    {
     "name": "stdout",
     "output_type": "stream",
     "text": [
      "['Austria' 'Hungary' 'Poland' 'Portugal' 'Switzerland']\n",
      "['Azerbaijan' 'Belarus' 'Romania' 'Russia']\n",
      "['Albania' 'Italy' 'Malta']\n",
      "['Belgium' 'Denmark' 'Estonia' 'France' 'Georgia' 'Greece' 'Iceland'\n",
      " 'Ireland' 'Israel' 'Lithuania' 'Macedonia' 'Netherlands' 'Norway'\n",
      " 'San Marino' 'Slovenia' 'Spain' 'Sweden' 'United Kingdom']\n",
      "['Armenia' 'Finland' 'Montenegro']\n",
      "['Germany' 'Latvia' 'Moldova' 'Ukraine']\n"
     ]
    }
   ],
   "source": [
    "for cluster in range(k_opt):\n",
    "    #print('Cluster {}'.format(cluster))\n",
    "    print(np.array(data[data.cluster == cluster].index))"
   ]
  },
  {
   "cell_type": "markdown",
   "metadata": {},
   "source": [
    "### Hierarchical clustering"
   ]
  },
  {
   "cell_type": "code",
   "execution_count": 246,
   "metadata": {
    "collapsed": false
   },
   "outputs": [],
   "source": [
    "data.drop('cluster',axis=1,inplace=True)"
   ]
  },
  {
   "cell_type": "code",
   "execution_count": 247,
   "metadata": {
    "collapsed": false
   },
   "outputs": [
    {
     "data": {
      "text/html": [
       "<div>\n",
       "<table border=\"1\" class=\"dataframe\">\n",
       "  <thead>\n",
       "    <tr style=\"text-align: right;\">\n",
       "      <th></th>\n",
       "      <th>Ukraine</th>\n",
       "      <th>Belarus</th>\n",
       "      <th>Azerbaijan</th>\n",
       "      <th>Iceland</th>\n",
       "      <th>Norway</th>\n",
       "      <th>Romania</th>\n",
       "      <th>Armenia</th>\n",
       "      <th>Montenegro</th>\n",
       "      <th>Greece</th>\n",
       "      <th>Poland</th>\n",
       "      <th>...</th>\n",
       "      <th>Slovenia</th>\n",
       "      <th>Finland</th>\n",
       "      <th>Spain</th>\n",
       "      <th>Switzerland</th>\n",
       "      <th>Hungary</th>\n",
       "      <th>Malta</th>\n",
       "      <th>Denmark</th>\n",
       "      <th>Netherlands</th>\n",
       "      <th>San Marino</th>\n",
       "      <th>United Kingdom</th>\n",
       "    </tr>\n",
       "    <tr>\n",
       "      <th>0</th>\n",
       "      <th></th>\n",
       "      <th></th>\n",
       "      <th></th>\n",
       "      <th></th>\n",
       "      <th></th>\n",
       "      <th></th>\n",
       "      <th></th>\n",
       "      <th></th>\n",
       "      <th></th>\n",
       "      <th></th>\n",
       "      <th></th>\n",
       "      <th></th>\n",
       "      <th></th>\n",
       "      <th></th>\n",
       "      <th></th>\n",
       "      <th></th>\n",
       "      <th></th>\n",
       "      <th></th>\n",
       "      <th></th>\n",
       "      <th></th>\n",
       "      <th></th>\n",
       "    </tr>\n",
       "  </thead>\n",
       "  <tbody>\n",
       "    <tr>\n",
       "      <th>Albania</th>\n",
       "      <td>0</td>\n",
       "      <td>0</td>\n",
       "      <td>0</td>\n",
       "      <td>0</td>\n",
       "      <td>0</td>\n",
       "      <td>0</td>\n",
       "      <td>0</td>\n",
       "      <td>6</td>\n",
       "      <td>0</td>\n",
       "      <td>2</td>\n",
       "      <td>...</td>\n",
       "      <td>0</td>\n",
       "      <td>0</td>\n",
       "      <td>12</td>\n",
       "      <td>0</td>\n",
       "      <td>8</td>\n",
       "      <td>1</td>\n",
       "      <td>0</td>\n",
       "      <td>0</td>\n",
       "      <td>3</td>\n",
       "      <td>0</td>\n",
       "    </tr>\n",
       "    <tr>\n",
       "      <th>Armenia</th>\n",
       "      <td>0</td>\n",
       "      <td>8</td>\n",
       "      <td>0</td>\n",
       "      <td>0</td>\n",
       "      <td>0</td>\n",
       "      <td>0</td>\n",
       "      <td>12</td>\n",
       "      <td>12</td>\n",
       "      <td>0</td>\n",
       "      <td>7</td>\n",
       "      <td>...</td>\n",
       "      <td>0</td>\n",
       "      <td>0</td>\n",
       "      <td>2</td>\n",
       "      <td>5</td>\n",
       "      <td>0</td>\n",
       "      <td>0</td>\n",
       "      <td>1</td>\n",
       "      <td>4</td>\n",
       "      <td>3</td>\n",
       "      <td>0</td>\n",
       "    </tr>\n",
       "    <tr>\n",
       "      <th>Austria</th>\n",
       "      <td>5</td>\n",
       "      <td>0</td>\n",
       "      <td>0</td>\n",
       "      <td>2</td>\n",
       "      <td>1</td>\n",
       "      <td>8</td>\n",
       "      <td>12</td>\n",
       "      <td>0</td>\n",
       "      <td>0</td>\n",
       "      <td>0</td>\n",
       "      <td>...</td>\n",
       "      <td>0</td>\n",
       "      <td>4</td>\n",
       "      <td>0</td>\n",
       "      <td>3</td>\n",
       "      <td>7</td>\n",
       "      <td>0</td>\n",
       "      <td>0</td>\n",
       "      <td>10</td>\n",
       "      <td>0</td>\n",
       "      <td>0</td>\n",
       "    </tr>\n",
       "    <tr>\n",
       "      <th>Azerbaijan</th>\n",
       "      <td>10</td>\n",
       "      <td>7</td>\n",
       "      <td>12</td>\n",
       "      <td>0</td>\n",
       "      <td>0</td>\n",
       "      <td>6</td>\n",
       "      <td>0</td>\n",
       "      <td>0</td>\n",
       "      <td>2</td>\n",
       "      <td>4</td>\n",
       "      <td>...</td>\n",
       "      <td>0</td>\n",
       "      <td>0</td>\n",
       "      <td>0</td>\n",
       "      <td>0</td>\n",
       "      <td>8</td>\n",
       "      <td>5</td>\n",
       "      <td>0</td>\n",
       "      <td>0</td>\n",
       "      <td>3</td>\n",
       "      <td>0</td>\n",
       "    </tr>\n",
       "    <tr>\n",
       "      <th>Belarus</th>\n",
       "      <td>8</td>\n",
       "      <td>12</td>\n",
       "      <td>3</td>\n",
       "      <td>0</td>\n",
       "      <td>4</td>\n",
       "      <td>1</td>\n",
       "      <td>10</td>\n",
       "      <td>0</td>\n",
       "      <td>7</td>\n",
       "      <td>6</td>\n",
       "      <td>...</td>\n",
       "      <td>0</td>\n",
       "      <td>0</td>\n",
       "      <td>0</td>\n",
       "      <td>0</td>\n",
       "      <td>5</td>\n",
       "      <td>0</td>\n",
       "      <td>0</td>\n",
       "      <td>2</td>\n",
       "      <td>0</td>\n",
       "      <td>0</td>\n",
       "    </tr>\n",
       "  </tbody>\n",
       "</table>\n",
       "<p>5 rows × 26 columns</p>\n",
       "</div>"
      ],
      "text/plain": [
       "            Ukraine  Belarus  Azerbaijan  Iceland  Norway  Romania  Armenia  \\\n",
       "0                                                                             \n",
       "Albania           0        0           0        0       0        0        0   \n",
       "Armenia           0        8           0        0       0        0       12   \n",
       "Austria           5        0           0        2       1        8       12   \n",
       "Azerbaijan       10        7          12        0       0        6        0   \n",
       "Belarus           8       12           3        0       4        1       10   \n",
       "\n",
       "            Montenegro  Greece  Poland       ...        Slovenia  Finland  \\\n",
       "0                                            ...                            \n",
       "Albania              6       0       2       ...               0        0   \n",
       "Armenia             12       0       7       ...               0        0   \n",
       "Austria              0       0       0       ...               0        4   \n",
       "Azerbaijan           0       2       4       ...               0        0   \n",
       "Belarus              0       7       6       ...               0        0   \n",
       "\n",
       "            Spain  Switzerland  Hungary  Malta  Denmark  Netherlands  \\\n",
       "0                                                                      \n",
       "Albania        12            0        8      1        0            0   \n",
       "Armenia         2            5        0      0        1            4   \n",
       "Austria         0            3        7      0        0           10   \n",
       "Azerbaijan      0            0        8      5        0            0   \n",
       "Belarus         0            0        5      0        0            2   \n",
       "\n",
       "            San Marino  United Kingdom  \n",
       "0                                       \n",
       "Albania              3               0  \n",
       "Armenia              3               0  \n",
       "Austria              0               0  \n",
       "Azerbaijan           3               0  \n",
       "Belarus              0               0  \n",
       "\n",
       "[5 rows x 26 columns]"
      ]
     },
     "execution_count": 247,
     "metadata": {},
     "output_type": "execute_result"
    }
   ],
   "source": [
    "data.head()"
   ]
  },
  {
   "cell_type": "code",
   "execution_count": 248,
   "metadata": {
    "collapsed": false
   },
   "outputs": [],
   "source": [
    "link_ward = linkage(data,'ward')"
   ]
  },
  {
   "cell_type": "code",
   "execution_count": 261,
   "metadata": {
    "collapsed": false
   },
   "outputs": [
    {
     "data": {
      "image/png": "[encoded data removed]",
      "text/plain": [
       "<matplotlib.figure.Figure at 0x7f2611667048>"
      ]
     },
     "metadata": {},
     "output_type": "display_data"
    }
   ],
   "source": [
    "plt.figure(figsize=(16,8))\n",
    "dendrogram(link_ward,labels=data.index,leaf_font_size=10)\n",
    "plt.show();"
   ]
  },
  {
   "cell_type": "code",
   "execution_count": 278,
   "metadata": {
    "collapsed": true
   },
   "outputs": [],
   "source": [
    "t = 11\n",
    "hier_labels = fcluster(link_ward,t=t,criterion='maxclust')\n",
    "data['cluster'] = hier_labels-1"
   ]
  },
  {
   "cell_type": "code",
   "execution_count": 279,
   "metadata": {
    "collapsed": false
   },
   "outputs": [
    {
     "name": "stdout",
     "output_type": "stream",
     "text": [
      "['Georgia' 'Greece' 'Spain']\n",
      "['Iceland' 'Latvia' 'Netherlands' 'United Kingdom']\n",
      "['Israel' 'Macedonia' 'Norway' 'San Marino' 'Sweden']\n",
      "['Belgium' 'Denmark' 'France' 'Ireland' 'Slovenia']\n",
      "['Austria' 'Estonia' 'Hungary' 'Lithuania']\n",
      "['Poland' 'Portugal' 'Switzerland']\n",
      "['Azerbaijan' 'Belarus' 'Moldova' 'Romania']\n",
      "['Germany' 'Ukraine']\n",
      "['Russia']\n",
      "['Albania' 'Italy' 'Malta']\n",
      "['Armenia' 'Finland' 'Montenegro']\n"
     ]
    }
   ],
   "source": [
    "for cluster in range(t):\n",
    "    print(np.array(data[data.cluster == cluster].index))"
   ]
  },
  {
   "cell_type": "markdown",
   "metadata": {},
   "source": [
    "### DBSCAN"
   ]
  },
  {
   "cell_type": "code",
   "execution_count": 281,
   "metadata": {
    "collapsed": false
   },
   "outputs": [],
   "source": [
    "data.drop('cluster',axis=1,inplace=True)"
   ]
  },
  {
   "cell_type": "code",
   "execution_count": 282,
   "metadata": {
    "collapsed": true
   },
   "outputs": [],
   "source": [
    "distances = euclidean_distances(data)"
   ]
  },
  {
   "cell_type": "code",
   "execution_count": 283,
   "metadata": {
    "collapsed": false
   },
   "outputs": [
    {
     "data": {
      "text/plain": [
       "(37, 37)"
      ]
     },
     "execution_count": 283,
     "metadata": {},
     "output_type": "execute_result"
    }
   ],
   "source": [
    "distances.shape"
   ]
  },
  {
   "cell_type": "code",
   "execution_count": 286,
   "metadata": {
    "collapsed": true
   },
   "outputs": [],
   "source": [
    "np.set_printoptions(2)"
   ]
  },
  {
   "cell_type": "code",
   "execution_count": 287,
   "metadata": {
    "collapsed": false
   },
   "outputs": [
    {
     "data": {
      "text/plain": [
       "array([[  0.  ,  27.46,  26.91,  29.29,  30.59],\n",
       "       [ 27.46,   0.  ,  28.04,  27.53,  20.3 ],\n",
       "       [ 26.91,  28.04,   0.  ,  29.19,  27.02],\n",
       "       [ 29.29,  27.53,  29.19,   0.  ,  18.11],\n",
       "       [ 30.59,  20.3 ,  27.02,  18.11,   0.  ]])"
      ]
     },
     "execution_count": 287,
     "metadata": {},
     "output_type": "execute_result"
    }
   ],
   "source": [
    "distances[:5,:5]"
   ]
  },
  {
   "cell_type": "code",
   "execution_count": 295,
   "metadata": {
    "collapsed": true
   },
   "outputs": [],
   "source": [
    "distances_sorted = np.sort(distances,axis=1)"
   ]
  },
  {
   "cell_type": "code",
   "execution_count": 316,
   "metadata": {
    "collapsed": false
   },
   "outputs": [
    {
     "data": {
      "text/plain": [
       "array([[  0.  ,  18.  ,  18.76,  20.3 ,  21.82,  22.8 ,  22.85,  23.24],\n",
       "       [  0.  ,  18.11,  18.49,  18.81,  21.35,  24.25,  25.04,  25.46],\n",
       "       [  0.  ,  11.31,  14.7 ,  16.31,  17.26,  17.69,  18.28,  18.33],\n",
       "       [  0.  ,  16.28,  16.76,  17.69,  17.97,  18.47,  18.52,  18.84],\n",
       "       [  0.  ,  15.36,  15.43,  17.94,  18.92,  19.13,  19.31,  19.9 ],\n",
       "       [  0.  ,  10.3 ,  11.31,  13.19,  14.76,  15.43,  15.68,  15.81],\n",
       "       [  0.  ,  17.89,  18.63,  19.39,  19.44,  19.9 ,  20.1 ,  20.35],\n",
       "       [  0.  ,  16.79,  22.36,  22.52,  22.54,  22.76,  23.79,  23.92],\n",
       "       [  0.  ,  12.61,  13.19,  13.56,  13.78,  15.1 ,  15.36,  15.94],\n",
       "       [  0.  ,  14.42,  16.79,  16.85,  17.03,  17.23,  17.26,  17.38],\n",
       "       [  0.  ,  17.03,  17.66,  18.33,  18.44,  18.55,  19.39,  19.9 ],\n",
       "       [  0.  ,  13.78,  14.35,  14.49,  15.68,  15.87,  16.97,  17.03],\n",
       "       [  0.  ,  14.63,  15.36,  17.49,  18.33,  19.18,  19.65,  21.1 ]])"
      ]
     },
     "execution_count": 316,
     "metadata": {},
     "output_type": "execute_result"
    }
   ],
   "source": [
    "distances_sorted[::3,:8]        "
   ]
  },
  {
   "cell_type": "code",
   "execution_count": 345,
   "metadata": {
    "collapsed": true
   },
   "outputs": [],
   "source": [
    "db_model = DBSCAN(15,5)\n",
    "db_labels = db_model.fit_predict(data)"
   ]
  },
  {
   "cell_type": "code",
   "execution_count": 346,
   "metadata": {
    "collapsed": false
   },
   "outputs": [
    {
     "data": {
      "text/plain": [
       "array([-1, -1,  1, -1, -1,  0,  0,  0, -1, -1,  1, -1, -1, -1,  0,  0, -1,\n",
       "       -1, -1,  1,  1, -1, -1, -1,  0, -1, -1,  0, -1, -1, -1, -1, -1,  0,\n",
       "       -1, -1, -1])"
      ]
     },
     "execution_count": 346,
     "metadata": {},
     "output_type": "execute_result"
    }
   ],
   "source": [
    "db_labels"
   ]
  }
 ],
 "metadata": {
  "kernelspec": {
   "display_name": "Python 3",
   "language": "python",
   "name": "python3"
  },
  "language_info": {
   "codemirror_mode": {
    "name": "ipython",
    "version": 3
   },
   "file_extension": ".py",
   "mimetype": "text/x-python",
   "name": "python",
   "nbconvert_exporter": "python",
   "pygments_lexer": "ipython3",
   "version": "3.6.0"
  }
 },
 "nbformat": 4,
 "nbformat_minor": 2
}
