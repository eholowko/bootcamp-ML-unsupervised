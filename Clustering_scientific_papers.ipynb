{
 "cells": [
  {
   "cell_type": "markdown",
   "metadata": {},
   "source": [
    "# Case study - Clustering scientific papers accoring to their abstracts\n",
    "\n",
    "https://archive.ics.uci.edu/ml/datasets/NSF+Research+Award+Abstracts+1990-2003 z folderu Data Folder ściągamy plik Part1. Jest to plik zawierający podstawowe informacje i abstrakty pewnego zbioru artykułów naukowych. Zadanie: pogrupować artykuły na podstawie abstraktów."
   ]
  },
  {
   "cell_type": "code",
   "execution_count": 1,
   "metadata": {
    "collapsed": true
   },
   "outputs": [],
   "source": [
    "from glob import glob\n",
    "import numpy as np\n",
    "import pandas as pd\n",
    "import re"
   ]
  },
  {
   "cell_type": "code",
   "execution_count": 3,
   "metadata": {
    "collapsed": false
   },
   "outputs": [],
   "source": [
    "import nltk\n",
    "from sklearn.feature_extraction.text import TfidfVectorizer,CountVectorizer\n",
    "from sklearn.decomposition import TruncatedSVD\n",
    "import matplotlib.pyplot as plt\n",
    "from sklearn.preprocessing import Normalizer"
   ]
  },
  {
   "cell_type": "code",
   "execution_count": 34,
   "metadata": {
    "collapsed": true
   },
   "outputs": [],
   "source": [
    "from multiprocessing import Pool\n",
    "import time\n",
    "import string"
   ]
  },
  {
   "cell_type": "code",
   "execution_count": 95,
   "metadata": {
    "collapsed": false
   },
   "outputs": [],
   "source": [
    "from sklearn.cluster import MiniBatchKMeans\n",
    "from sklearn.metrics import silhouette_score,make_scorer\n",
    "from sklearn.model_selection import GridSearchCV\n",
    "from sklearn.pipeline import Pipeline"
   ]
  },
  {
   "cell_type": "code",
   "execution_count": 164,
   "metadata": {
    "collapsed": true
   },
   "outputs": [],
   "source": [
    "from itertools import product\n",
    "from sklearn.preprocessing import Normalizer"
   ]
  },
  {
   "cell_type": "markdown",
   "metadata": {},
   "source": [
    "### Get paths to all documents in subfolders"
   ]
  },
  {
   "cell_type": "code",
   "execution_count": 4,
   "metadata": {
    "collapsed": false
   },
   "outputs": [],
   "source": [
    "file_paths = glob('./Data2/Part1/*/*/*.txt')"
   ]
  },
  {
   "cell_type": "code",
   "execution_count": 5,
   "metadata": {
    "collapsed": false
   },
   "outputs": [
    {
     "data": {
      "text/plain": [
       "['./Data2/Part1/awards_1990/awd_1990_23/a9023383.txt',\n",
       " './Data2/Part1/awards_1990/awd_1990_23/a9023319.txt',\n",
       " './Data2/Part1/awards_1990/awd_1990_23/a9023464.txt',\n",
       " './Data2/Part1/awards_1990/awd_1990_23/a9023681.txt',\n",
       " './Data2/Part1/awards_1990/awd_1990_23/a9023335.txt']"
      ]
     },
     "execution_count": 5,
     "metadata": {},
     "output_type": "execute_result"
    }
   ],
   "source": [
    "file_paths[:5]"
   ]
  },
  {
   "cell_type": "code",
   "execution_count": 69,
   "metadata": {
    "collapsed": true
   },
   "outputs": [],
   "source": [
    "example_path = file_paths[4]"
   ]
  },
  {
   "cell_type": "code",
   "execution_count": 70,
   "metadata": {
    "collapsed": true
   },
   "outputs": [],
   "source": [
    "with open(example_path,'r') as f:\n",
    "    example_file = f.read()"
   ]
  },
  {
   "cell_type": "code",
   "execution_count": 71,
   "metadata": {
    "collapsed": false
   },
   "outputs": [
    {
     "name": "stdout",
     "output_type": "stream",
     "text": [
      "Title       : Faculty Awards for Women:Mathematical Sciences: Stochastic Processes and\n",
      "               Applications\n",
      "Type        : Award\n",
      "NSF Org     : HRD \n",
      "Latest\n",
      "Amendment\n",
      "Date        : December 13,  1995  \n",
      "File        : a9023335\n",
      "\n",
      "Award Number: 9023335\n",
      "Award Instr.: Continuing grant                             \n",
      "Prgm Manager: Margrete S. Klein                       \n",
      "\t      HRD  DIVISION OF HUMAN RESOURCE DEVELOPMENT  \n",
      "\t      EHR  DIRECT FOR EDUCATION AND HUMAN RESOURCES\n",
      "Start Date  : November 1,  1991   \n",
      "Expires     : October 31,  1997    (Estimated)\n",
      "Expected\n",
      "Total Amt.  : $250000             (Estimated)\n",
      "Investigator: Ruth J. Williams williams@math.ucsd.edu  (Principal Investigator current)\n",
      "Sponsor     : U of Cal San Diego\n",
      "\t      9500 Gilman Drive, Dept. 0934\n",
      "\t      La Jolla, CA  920930934    858/534-0246\n",
      "\n",
      "NSF Program : 9292      FACULTY AWARDS FOR WOMEN\n",
      "Fld Applictn: 0000099   Other Applications NEC                  \n",
      "              21        Mathematics                             \n",
      "Program Ref : 0000,1263,1269,9179,OTHR,SMET,\n",
      "Abstract    :\n",
      "                   This Faculty Award for Women Scientists and Engineers is                  \n",
      "              made to Dr. Ruth J. Williams of the Department of Mathematics,                 \n",
      "              University of California, San Diego.  Dr. Williams will continue               \n",
      "              working in her research interest in probability, specifically on               \n",
      "              stochastic processes.  Her primary focus to date has been on                   \n",
      "              multidimensional diffusions and their applications in physical,                \n",
      "              biological and social sciences, as well as in engineering.  She                \n",
      "              plans to investigate stochastic integral equations and nonlinear               \n",
      "              PDE's and their connection with stochastic processes.                          \n",
      "                   The NSF Faculty Award for Women recognizes the high quality               \n",
      "              of the awardee's record in teaching and scholarship as well as                 \n",
      "              potential for continued significant contributions to scientific                \n",
      "              research, the academic profession, and the education of future                 \n",
      "              scientists.  Dr. Williams will continue her work on stochastic                 \n",
      "              processes, an area of probability theory.  Particulary noteworthy              \n",
      "              is her appointment to an Associate Editorship to a leading                     \n",
      "              journal of probability.\n",
      "\n"
     ]
    }
   ],
   "source": [
    "print(example_file)"
   ]
  },
  {
   "cell_type": "markdown",
   "metadata": {},
   "source": [
    "### Extract title and abstract"
   ]
  },
  {
   "cell_type": "code",
   "execution_count": 9,
   "metadata": {
    "collapsed": false
   },
   "outputs": [],
   "source": [
    "example_file = re.sub(r'(\\s+\\n\\s+)','',example_file)"
   ]
  },
  {
   "cell_type": "code",
   "execution_count": 10,
   "metadata": {
    "collapsed": false
   },
   "outputs": [
    {
     "data": {
      "text/plain": [
       "'Title       : Reaction Dynamics of Small Cyclic Hydrocarbons\\nType        : Award\\nNSF Org     : CHE \\nLatest\\nAmendment\\nDate        : December 16,  1992  \\nFile        : a9023319\\n\\nAward Number: 9023319\\nAward Instr.: Continuing grant                             \\nPrgm Manager: Seymour LapporteCHE  DIVISION OF CHEMISTRYMPS  DIRECT FOR MATHEMATICAL & PHYSICAL SCIEN\\nStart Date  : February 15,  1991  \\nExpires     : July 31,  1994       (Estimated)\\nExpected\\nTotal Amt.  : $155442             (Estimated)\\nInvestigator: David K. Lewis   (Principal Investigator current)\\nSponsor     : Colgate University\\n\\t      13 Oak Drive\\n\\t      Hamilton, NY  13346    315/228-1000\\n\\nNSF Program : 1942      UNIMOLECULAR PROCESSES\\nFld Applictn: 0000099   Other Applications NEC12        Chemistry                               \\nProgram Ref : 9141,9178,9229,\\nAbstract    :\\n              This grant from the Organic Dynamics Program supports the researchof Professor David Lewis at Colgate University. The results ofthis research will provide new understanding to the mechanism ofthe thermal reactions of small-ring hydrocarbons. The shock tubemethod will allow high reaction temperatures to be reached (1100K) without the complication of reaction on the reactor wall. Newand sophisticated spectroscopic methods will be used to detectintermediates in these reactions, and from this analysis aninsight to the mechanism of the reaction can be reached.The isomerization and fragmentation reactions of small-ringhydrocarbons will be studied by shock tube and static reactortechniques. Mechanistic details of these reactions will be probedwith state of the art spectroscopic techniques, namely, highresolution IR absorption spectroscopy, tunable diode lasermethods, and vibrational circular dichroism. Sophisticateddeuterium and carbon-13 labeling experiments will be employed todetermine the course of reaction. From these experiments it willbe possible to determine if these reactions proceed in aconcerted or stepwise manner, and if orbital symmetry rules areobeyed.\\n'"
      ]
     },
     "execution_count": 10,
     "metadata": {},
     "output_type": "execute_result"
    }
   ],
   "source": [
    "example_file"
   ]
  },
  {
   "cell_type": "code",
   "execution_count": 11,
   "metadata": {
    "collapsed": false
   },
   "outputs": [],
   "source": [
    "m = re.findall(r'(\\s+\\n)|(\\n\\s+)',example_file)"
   ]
  },
  {
   "cell_type": "code",
   "execution_count": 12,
   "metadata": {
    "collapsed": false
   },
   "outputs": [
    {
     "data": {
      "text/plain": [
       "[(' \\n', ''),\n",
       " ('  \\n', ''),\n",
       " ('\\n\\n', ''),\n",
       " ('                             \\n', ''),\n",
       " ('  \\n', ''),\n",
       " ('', '\\n\\t      '),\n",
       " ('', '\\n\\t      '),\n",
       " ('\\n\\n', ''),\n",
       " ('                               \\n', ''),\n",
       " ('', '\\n              ')]"
      ]
     },
     "execution_count": 12,
     "metadata": {},
     "output_type": "execute_result"
    }
   ],
   "source": [
    "m"
   ]
  },
  {
   "cell_type": "code",
   "execution_count": 27,
   "metadata": {
    "collapsed": true
   },
   "outputs": [],
   "source": [
    "def get_title_abstract(path):\n",
    "    '''\n",
    "    Get title and abstract for a paper from given path\n",
    "    '''\n",
    "    try:\n",
    "        with open(path,'r',encoding='latin1') as f:\n",
    "            file = f.read()\n",
    "            text = re.sub(r'(\\s+\\n\\s+)',' ',file)\n",
    "            text = re.sub(r'(\\s+\\n)|(\\n\\s+)',' ',text)\n",
    "            title = re.findall(r'Title\\s+:(.*)',text)[0].strip()\n",
    "            abstract = re.findall(r'Abstract\\s+:(.*)',text)[0].strip()\n",
    "            \n",
    "    except Exception as e:\n",
    "        print('Failed reading file %s' %path)\n",
    "        print('Error: %s' %e)\n",
    "        return '',''\n",
    "    \n",
    "    return(title,abstract)"
   ]
  },
  {
   "cell_type": "markdown",
   "metadata": {},
   "source": [
    "## Multiprocessing"
   ]
  },
  {
   "cell_type": "code",
   "execution_count": 23,
   "metadata": {
    "collapsed": false
   },
   "outputs": [
    {
     "data": {
      "text/plain": [
       "51760"
      ]
     },
     "execution_count": 23,
     "metadata": {},
     "output_type": "execute_result"
    }
   ],
   "source": [
    "len(file_paths)# number of abstracts"
   ]
  },
  {
   "cell_type": "code",
   "execution_count": 39,
   "metadata": {
    "collapsed": false
   },
   "outputs": [
    {
     "name": "stdout",
     "output_type": "stream",
     "text": [
      "With 1 processes it takes 7.6 seconds\n",
      "With 2 processes it takes 4.2 seconds\n",
      "With 3 processes it takes 4.2 seconds\n",
      "With 4 processes it takes 4.3 seconds\n"
     ]
    }
   ],
   "source": [
    "'''\n",
    "check performance of multiprocessing with different number of processes \n",
    "accoridng to a sample of abstract\n",
    "'''\n",
    "for process in range(1,5):\n",
    "    start = time.time()\n",
    "    p = Pool(processes=process)\n",
    "    result = p.map(get_title_abstract,file_paths[:10000])\n",
    "    p.close()\n",
    "    p.join()\n",
    "    print('With {} processes it takes {:.1f} seconds'.format(process,time.time() - start))"
   ]
  },
  {
   "cell_type": "code",
   "execution_count": 73,
   "metadata": {
    "collapsed": true
   },
   "outputs": [],
   "source": [
    "# dual core CPU with hyperthreading\n",
    "p = Pool(processes=2)\n",
    "result = p.map(get_title_abstract,file_paths[:20000])\n",
    "p.close()\n",
    "p.join()\n",
    "\n",
    "data = [art for art in result]"
   ]
  },
  {
   "cell_type": "markdown",
   "metadata": {},
   "source": [
    "### Abstracts preprocessing"
   ]
  },
  {
   "cell_type": "code",
   "execution_count": 74,
   "metadata": {
    "collapsed": true
   },
   "outputs": [],
   "source": [
    "def abstract_preprocessing(abstract):\n",
    "    # remove multiple spaces\n",
    "    abstract_no_spaces = re.sub(r'(\\s+)',' ',abstract)\n",
    "    #remove capital letters          \n",
    "    abstract_lower = abstract_no_spaces.lower()\n",
    "    #tokenization\n",
    "    abstract_tokenized = nltk.word_tokenize(abstract_lower)\n",
    "    # remove punctuation\n",
    "    abstract_no_punc = [word for word in abstract_tokenized if not word in string.punctuation]  \n",
    "    # remove stopwords\n",
    "    abstract_no_stopwords = [word for word in abstract_no_punc if not word in nltk.corpus.stopwords.words('english')]\n",
    "    #joining words\n",
    "    return ' '.join(abstract_no_stopwords)"
   ]
  },
  {
   "cell_type": "code",
   "execution_count": 75,
   "metadata": {
    "collapsed": true
   },
   "outputs": [],
   "source": [
    "# get only abstracts\n",
    "abstracts = [art[1] for art in data]"
   ]
  },
  {
   "cell_type": "code",
   "execution_count": 76,
   "metadata": {
    "collapsed": false
   },
   "outputs": [],
   "source": [
    "pool = Pool(processes=2)\n",
    "result = pool.map(abstract_preprocessing,abstracts)\n",
    "pool.close()\n",
    "pool.join()"
   ]
  },
  {
   "cell_type": "markdown",
   "metadata": {},
   "source": [
    "### TF-IDF + SVD + MiniBatchKmeans - best hyperparameters tuning"
   ]
  },
  {
   "cell_type": "code",
   "execution_count": 79,
   "metadata": {
    "collapsed": true
   },
   "outputs": [],
   "source": [
    "titles = [art[0] for art in data]\n",
    "abstracts = [art[1] for art in data]"
   ]
  },
  {
   "cell_type": "code",
   "execution_count": 80,
   "metadata": {
    "collapsed": false
   },
   "outputs": [
    {
     "data": {
      "text/plain": [
       "'project supports cultural anthropologist university south florida analysis network structure public private social service agencies tampa bay area using network algorithms analyze function shape interactions agencies project describe analyze hierarchy interactions 500 agencies research important communities developed world multiple social service agencies interacting various levels government social institutions schools general public understanding interactions structured hierarchical manner advance abilities decision makers allocate resources efficiently'"
      ]
     },
     "execution_count": 80,
     "metadata": {},
     "output_type": "execute_result"
    }
   ],
   "source": [
    "abstracts[0]"
   ]
  },
  {
   "cell_type": "code",
   "execution_count": 176,
   "metadata": {
    "collapsed": false
   },
   "outputs": [],
   "source": [
    "def cluster_abstracts(vectorizer_min_df,vectorizer_max_df,dim_red_n_components_arg,clustering_n_clusters_arg,X):\n",
    "    \n",
    "    #TF-IDF\n",
    "    tf_idf = TfidfVectorizer(min_df=vectorizer_min_df, max_df=vectorizer_max_df) \n",
    "    dtm = tf_idf.fit_transform(X)\n",
    "    \n",
    "    #dimension reduction\n",
    "    svd = TruncatedSVD(n_components=dim_red_n_components_arg)\n",
    "    dtm_svd_ = svd.fit_transform(dtm)\n",
    "    \n",
    "    #clustering\n",
    "    mini_batch = MiniBatchKMeans(n_clusters=clustering_n_clusters_arg,\n",
    "                                n_init = 1,\n",
    "                                init_size = 1000,\n",
    "                                batch_size = 1000)\n",
    "    labels = mini_batch.fit_predict(dtm_svd_)\n",
    "    \n",
    "    sil_score = silhouette_score(dtm_svd_,labels)\n",
    "\n",
    "    return(vectorizer_min_df,vectorizer_max_df,dim_red_n_components_arg,clustering_n_clusters_arg,sil_score)"
   ]
  },
  {
   "cell_type": "code",
   "execution_count": 177,
   "metadata": {
    "collapsed": false
   },
   "outputs": [],
   "source": [
    "vectorizer_min_df_arg = [10,20]\n",
    "vectorizer_max_df_arg = [0.2,0.5,0.8]\n",
    "dim_red_n_components_arg = [200,300]\n",
    "clustering_n_clusters_arg = [20,40,60]"
   ]
  },
  {
   "cell_type": "code",
   "execution_count": 178,
   "metadata": {
    "collapsed": false
   },
   "outputs": [],
   "source": [
    "pool = Pool(2)\n",
    "results = pool.starmap(functools.partial(cluster_abstracts,X = abstracts),\n",
    "                       product(vectorizer_min_df_arg,\n",
    "                               vectorizer_max_df_arg,\n",
    "                               dim_red_n_components_arg,\n",
    "                               clustering_n_clusters_arg))\n",
    "pool.close()\n",
    "pool.join()"
   ]
  },
  {
   "cell_type": "code",
   "execution_count": 180,
   "metadata": {
    "collapsed": false
   },
   "outputs": [
    {
     "data": {
      "text/plain": [
       "[(10, 0.2, 200, 60, 0.10027918043704515),\n",
       " (20, 0.8, 200, 60, 0.09598451606225265),\n",
       " (10, 0.8, 200, 60, 0.09561062588394344),\n",
       " (10, 0.5, 200, 60, 0.0951825009441485),\n",
       " (20, 0.5, 200, 40, 0.09417496613666532)]"
      ]
     },
     "execution_count": 180,
     "metadata": {},
     "output_type": "execute_result"
    }
   ],
   "source": [
    "sorted(results, key=lambda tup: tup[4],reverse=True)[:5]"
   ]
  },
  {
   "cell_type": "code",
   "execution_count": 224,
   "metadata": {
    "collapsed": false
   },
   "outputs": [],
   "source": [
    "#TF-IDF\n",
    "tf_idf = TfidfVectorizer(min_df=10, max_df=0.2) \n",
    "dtm = tf_idf.fit_transform(abstracts)\n",
    "    \n",
    "#dimension reduction\n",
    "svd = TruncatedSVD(n_components=200)\n",
    "dtm_svd_ = svd.fit_transform(dtm)\n",
    "    \n",
    "#clustering\n",
    "mini_batch = MiniBatchKMeans(n_clusters=40,\n",
    "                             n_init = 1,\n",
    "                             init_size = 1000,\n",
    "                             batch_size = 1000)\n",
    "labels = mini_batch.fit_predict(dtm_svd_)\n",
    "    \n",
    "sil_score = silhouette_score(dtm_svd_,labels)"
   ]
  },
  {
   "cell_type": "code",
   "execution_count": 225,
   "metadata": {
    "collapsed": true
   },
   "outputs": [],
   "source": [
    "df = pd.DataFrame(\n",
    "{\n",
    "    'title':titles,\n",
    "    'abstract':abstracts,\n",
    "    'label':labels\n",
    "})"
   ]
  },
  {
   "cell_type": "code",
   "execution_count": 226,
   "metadata": {
    "collapsed": false
   },
   "outputs": [
    {
     "data": {
      "text/html": [
       "<div>\n",
       "<style scoped>\n",
       "    .dataframe tbody tr th:only-of-type {\n",
       "        vertical-align: middle;\n",
       "    }\n",
       "\n",
       "    .dataframe tbody tr th {\n",
       "        vertical-align: top;\n",
       "    }\n",
       "\n",
       "    .dataframe thead th {\n",
       "        text-align: right;\n",
       "    }\n",
       "</style>\n",
       "<table border=\"1\" class=\"dataframe\">\n",
       "  <thead>\n",
       "    <tr style=\"text-align: right;\">\n",
       "      <th></th>\n",
       "      <th>title</th>\n",
       "      <th>abstract</th>\n",
       "      <th>label</th>\n",
       "    </tr>\n",
       "  </thead>\n",
       "  <tbody>\n",
       "    <tr>\n",
       "      <th>0</th>\n",
       "      <td>Network Approach to Levels of Integration</td>\n",
       "      <td>project supports cultural anthropologist unive...</td>\n",
       "      <td>10</td>\n",
       "    </tr>\n",
       "    <tr>\n",
       "      <th>1</th>\n",
       "      <td>Reaction Dynamics of Small Cyclic Hydrocarbons</td>\n",
       "      <td>grant organic dynamics program supports resear...</td>\n",
       "      <td>2</td>\n",
       "    </tr>\n",
       "    <tr>\n",
       "      <th>2</th>\n",
       "      <td>Faculty Awards for Women. Scientific Inquiry i...</td>\n",
       "      <td>award provides support dr. susan feigenbaum na...</td>\n",
       "      <td>10</td>\n",
       "    </tr>\n",
       "    <tr>\n",
       "      <th>3</th>\n",
       "      <td>FAW: Biophysical Suudies of Eucaryotic mRNA Tr...</td>\n",
       "      <td>dr. goss research goals understanding regulati...</td>\n",
       "      <td>20</td>\n",
       "    </tr>\n",
       "    <tr>\n",
       "      <th>4</th>\n",
       "      <td>Faculty Awards for Women:Mathematical Sciences...</td>\n",
       "      <td>faculty award women scientists engineers made ...</td>\n",
       "      <td>25</td>\n",
       "    </tr>\n",
       "  </tbody>\n",
       "</table>\n",
       "</div>"
      ],
      "text/plain": [
       "                                               title  \\\n",
       "0          Network Approach to Levels of Integration   \n",
       "1     Reaction Dynamics of Small Cyclic Hydrocarbons   \n",
       "2  Faculty Awards for Women. Scientific Inquiry i...   \n",
       "3  FAW: Biophysical Suudies of Eucaryotic mRNA Tr...   \n",
       "4  Faculty Awards for Women:Mathematical Sciences...   \n",
       "\n",
       "                                            abstract  label  \n",
       "0  project supports cultural anthropologist unive...     10  \n",
       "1  grant organic dynamics program supports resear...      2  \n",
       "2  award provides support dr. susan feigenbaum na...     10  \n",
       "3  dr. goss research goals understanding regulati...     20  \n",
       "4  faculty award women scientists engineers made ...     25  "
      ]
     },
     "execution_count": 226,
     "metadata": {},
     "output_type": "execute_result"
    }
   ],
   "source": [
    "df.head()"
   ]
  },
  {
   "cell_type": "code",
   "execution_count": 227,
   "metadata": {
    "collapsed": false
   },
   "outputs": [
    {
     "name": "stdout",
     "output_type": "stream",
     "text": [
      "There are 869 abstracts with label 0\n",
      "Core and Non-Core Measurements of Sediment Composition and Burial Rate and in Response to Climate Change on Time Scalesof 10.4 - 10.5 Years\n",
      "Faculty Awards for Women: Tracing Sources and Sinks of Particles in the Ocean\n",
      "Reactive Radionuclides as Indicators of New Production and Particle Transformations in the Equatorial Pacific Water Column: JGOFS\n",
      "The Effect of Magnetic Field Structure on Wave Flux in the Solar Atmosphere\n",
      "Faculty Award for Women - Energetic Winds and Disk Accretionin Low Mass Young Stars\n",
      "\n",
      "There are 947 abstracts with label 1\n",
      "Financial and Compliance Audit Services\n",
      "Travel of India-Scientists under the U.S.-India Exchange of Scientists Program\n",
      "Financial and Compliance Audit Services\n",
      "Travel of U.S.-Scientist under the U.S-India Exchange of Scientists Programs\n",
      "Financial and Compliance Audit Services\n",
      "\n",
      "There are 787 abstracts with label 2\n",
      "Reaction Dynamics of Small Cyclic Hydrocarbons\n",
      "Structural Recognition in Complexation of Organic Compounds\n",
      "Intramolecular Anodic Olefin Coupling Reactions\n",
      "Determinations of the Products of Electron-Ion Recombinationfor Interstellar Ions\n",
      "Purchase of a Fourier-Transform Raman/Infrared Step-Scan Spectrometer\n",
      "\n",
      "There are 556 abstracts with label 3\n",
      "Women in Science: Recruitment and Retention\n",
      "AIT-CCNAA Cooperative Research: Marine Geophysical Studies of the Taiwan Collision Zone\n",
      "Gulf Coast Research Laboratory Marine Science Training and Research Program\n",
      "Midwest Comprehensive Regional Center for Minorities (MCRCM)\n",
      "Staff Development to Provide Associate Degree Science and Engineering Technology Faculty with the Experience to Incor-porate Computer Based Data Acquisition Technics in Their Lab\n",
      "\n",
      "There are 284 abstracts with label 4\n",
      "Support of the Diatom Herbarium of The Academy of Natural Sciences of Philadelphia\n",
      "Implementation and Evaluation of a Parallel Text Searcher for Very Large Databases\n",
      "Building Bridges and Interfaces: Developing User-Centered Representation Techniques for Communicating User Interface Designs\n",
      "Collaborative Research on the Dynamics of Candidate Evaluation\n",
      "Understanding Properties of Dynamically Evolving Objects andTheir Schemas in Object Oriented Databases\n",
      "\n",
      "There are 91 abstracts with label 5\n",
      "Web Handling Research Center\n",
      "The Industry/University Cooperative Research Center for Dielectric Studies\n",
      "Industry/University Cooperative Research Center for MaterialHandling\n",
      "I/UCRC Design For Assembly Advisor: A Design For Assembly Expert System\n",
      "I/UCRC for Effects of Prestrain and Strain State on UniaxialTensile Properties of Sheet Steels\n",
      "\n",
      "There are 892 abstracts with label 6\n",
      "Workshop on the Application of Marine Biotechnology in OceanEngineering and Mariculture\n",
      "Aspen Winter Conference on Elementary Particle Physics; Aspen, Colorado; January 6-12, 1991\n",
      "APS Division of Particles and Fields; Vancouver, anada; August 18-22, 1991\n",
      "Symposium on Bridge Strengthening and Rehabilitation\n",
      "United States-Malaysia Seminar on Innovation and Commercialization in Research, Kuala Lumpur, Malaysia, November 12-16, 1990\n",
      "\n",
      "There are 212 abstracts with label 7\n",
      "Practical Compile-Time Analysis Algorithms: (FAW)\n",
      "FAW: Specification and Analysis Methodology for Safety- Critical Software\n",
      "Integrated Concurrency Analysis in a Software Development Environment\n",
      "Adaptive Software Cache Management for Distributed Shared Memory Architectures\n",
      "Grammar-Based Data Specification\n",
      "\n",
      "There are 437 abstracts with label 8\n",
      "Faculty Award for Women Scientists and Engineers (FAW)\n",
      "Mathematical Sciences: Linear and Non-Linear Waves\n",
      "Mathematical Sciences: Analytical and Numerical Studies of Nonlinear Hyperbolic Systems\n",
      "Mathematical Sciences: The Analysis of Particle Methods for Solving Vlasov Kinetic Equation\n",
      "Mathematical Sciences: Partial Differential Equations and Geometric Analysis\n",
      "\n",
      "There are 35 abstracts with label 9\n",
      "GRADUATE RESEARCH FELLOWSHIP PROGRAM\n",
      "GRADUATE RESEARCH FELLOWSHIP PROGRAM\n",
      "GRADUATE RESEARCH FELLOWSHIP PROGRAM\n",
      "GRADUATE RESEARCH FELLOWSHIP PROGRAM\n",
      "NSF-NATO POSTDOCTORAL FELLOWSHIP\n",
      "\n",
      "There are 1187 abstracts with label 10\n",
      "Network Approach to Levels of Integration\n",
      "Faculty Awards for Women. Scientific Inquiry in the Social Sciences: The Market for (IR) Reproducible Research in Economics\n",
      "Work Conditions, Pregnancy, and Employment Continuity\n",
      "RUI: Race, Gender, and the Correlation Between Schooling and Health\n",
      "Popular Legitimation in East Germany, Support for Democracy in a United Germany: Compared to West Germany Type        : Award\n",
      "\n",
      "There are 288 abstracts with label 11\n",
      "Project Genethics: Mentor Teachers Implementing Validated Model Workshops in Human Genetics and Related Societal Issues\n",
      "Learning Cycles and Microscale in High School Chemistry\n",
      "Every Physics Teacher's CD-Rom Toolkit\n",
      "Connections and Applied Technology Systems (CATS) Project\n",
      "Microfabrication Laboratory Workshop\n",
      "\n",
      "There are 38 abstracts with label 12\n",
      "Minority Graduate Research Award Honorable Mention: Mario Gamboa\n",
      "Minority Graduate Research Honorable Mention: Debbie DeLoach\n",
      "Cultural Stratification in Higher Education\n",
      "Minority Graduate Research Honorable Mention: Paula C. Jackson\n",
      "Special Graduate Education Activities\n",
      "\n",
      "There are 1260 abstracts with label 13\n",
      "Faculty Awards for Women: Causes of Variation in Secondary Metabolite Production by Tropical Seaweeds\n",
      "FAW: Molecular Studies on the Evolution and Development of Pteridophytes\n",
      "Molecular and Genetic Analysis of Hybrid Breakdown During Hyperosmotic Stress in the Copepod Tigriopus calfornicus\n",
      "Heat Shock Gene Expression: An Indicator of Thermal Stress in Marine Animals\n",
      "Faculty Awards for Women\n",
      "\n",
      "There are 1104 abstracts with label 14\n",
      "Crustal Reflection Profiling Across the Oldest Archean Crust and Crustal Sutures, West Greenland: Processing and Interpretation\n",
      "Oceanographic Instrumentation\n",
      "Faculty Awards for Women Scientists and Engineers (FAW)\n",
      "FAW\n",
      "Mesozoic to Present-Day Tectonics of the Eastern Yakut ASSR:A Cooperative Research Program with the Yakut Science CenterYakutsk, USSR, and the Geophysical Institute, U. of Alaska\n",
      "\n",
      "There are 351 abstracts with label 15\n",
      "Faculty Awards for Women: Mechanical Behavior of Interpenetrating Composites and Cancellous Bone\n",
      "Faculty Awards for Women Scientists and Engineers\n",
      "The Design, Synthesis, and Characterization of Potential Organic Superconductors\n",
      "Faculty Awards for Women Scientists and Engineers (FAW)\n",
      "Research Initiation Grant: Development and Fabrication of Shape Memory Effect NiTi Micro-Switches and Micro-Motion Actuators\n",
      "\n",
      "There are 105 abstracts with label 16\n",
      "History of Understanding of the Human Impact on Climate\n",
      "Mathematical Sciences: Institute for Mathematics and its Applications\n",
      "Participation by U.S. Scientists in Activities of the International Council for Exploration of the Sea (ICES)\n",
      "U.S.-U.S.S.R. Workshop on Soviet-American Cooperation in Arctic/Northern Social Sciences (Moscow: September 1990)\n",
      "Support of the International Institute for Applied Systems Analysis Research Program, 1991\n",
      "\n",
      "There are 129 abstracts with label 17\n",
      "Westnet Networking Project - Renewal\n",
      "Institutional Science Enhancement/NSFNET\n",
      "Joint NSFnet Connection Between Nashville State Technical Institute and Vanderbilt University\n",
      "Connection to NSFNET\n",
      "Access to Internet Facilities\n",
      "\n",
      "There are 66 abstracts with label 18\n",
      "Mathematical Sciences: Postdoctoral Research Fellowship\n",
      "Mathematical Sciences: Postdoctoral Research Fellowship\n",
      "Mathematical and Computer Sciences: Postdoctoral Research Fellowship\n",
      "Mathematical Sciences: Postdoctoral Research Fellowship\n",
      "Mathematical Sciences: Postdoctoral Research Fellowship\n",
      "\n",
      "There are 64 abstracts with label 19\n",
      "The Role of Concepts in Mathematical Knowledge\n",
      "U.S.-Brazil Collaborative Research in Cummutative Algebra, Algebraic Geometry and Associated Computation\n",
      "U.S.-France Cooperative Research: Arakelov Geometry and itsApplications\n",
      "Mathematical Sciences: Algebraic Geometry\n",
      "Mathematical Sciences: On the Brauer Group of a Variety\n",
      "\n",
      "There are 679 abstracts with label 20\n",
      "FAW: Biophysical Suudies of Eucaryotic mRNA Translation\n",
      "Measurements of Excitation-Secretion Coupling in Single Cells\n",
      "Affinity Labels for Kappa Opioid Receptors\n",
      "RUI: Neurobiology of Insect Circadian Rhythms\n",
      "Production and Immobilization of Antibody Fragments for Improved Affinity Purification\n",
      "\n",
      "There are 62 abstracts with label 21\n",
      "OIG-9023702, Audit of an NSF award to MicroMed Systems, Inc.performed by KPMG Peat Marwick (T.O. #20)\n",
      "OIG-9023706, Audit of an NSF award to WYKO Corporation performed by Leonard G. Birnbaum & Company (T.O.#19)\n",
      "OIG-9023706, Audit of an NSF award to Hone Productions performed by Leonard G. Birnbaum & Company(T.O.#17)\n",
      "OIG-9023706, Audit of NSF awards to Minnesota Zoological Garden performed by Leonard G. Birnbaum & Company (TASK ORDER NO. 18)\n",
      "OIG-9023706, Audit of NSF awards to the Society for the Advancement of Chicanos and Native Americans in Science performed by Leonard G. Birnbaum & Company(T.O.#14)\n",
      "\n",
      "There are 153 abstracts with label 22\n",
      "YSP: Institute for Creative Engineering and Inventiveness\n",
      "Science Enrichment for the Disabled\n",
      "Proposal for a Summer High School Honors Science Program\n",
      "Young Scholars Program -- Research in Hazardous Toxic Substance Management\n",
      "Research Experiences in Molecular Biology for Young Scholars\n",
      "\n",
      "There are 1067 abstracts with label 23\n",
      "Biology Field Instructor Training Program\n",
      "Course on Gene Manipulation for Undergraduate Faculty\n",
      "NMR Workshops for Undergraduate Chemistry Faculty\n",
      "Undergraduate Laboratory Instruction in Biotechnology\n",
      "Interfacing Microcomputers to Chemical Instrumentation\n",
      "\n",
      "There are 220 abstracts with label 24\n",
      "Cosmogenic Radionuclides in the GISP II Ice Core: 10Be, 26A1, and 36C1.\n",
      "Operation SWAB: Monitoring of Ship Contamination\n",
      "Spectroscopic Studies of Structures and Defect Activities ofIcy Clusters and Thin Films\n",
      "Liquid-Like Water in Frozen Porous Media and Surface Melting of Ice\n",
      "Primary Productivity in Antarctic Pack Ice: Time Series Studies at Ice Station\n",
      "\n",
      "There are 817 abstracts with label 25\n",
      "Faculty Awards for Women:Mathematical Sciences: Stochastic Processes and Applications\n",
      "Faculty Awards for Women: Mathematical Sciences: Algebraic Geometry\n",
      "FAW: Nuclear Structure Studies\n",
      "FAW: Lattice Gauge Theories\n",
      "Faculty Award for Women\n",
      "\n",
      "There are 87 abstracts with label 26\n",
      "ARFMP: Renovation of Facilities for Molecular Biophysics\n",
      "ARFMP: Replacement and Modernization of the University of Wyoming Botany Glasshouse\n",
      "ARFMP: Renovation and Modernization of Marine Science Hall,Dauphin Island Sea Lab, Alabama Marine Environmental Sciences Consortium\n",
      "ARFMP: Renovation of Ceramics/Power Metallurgy Processing Research Facilities\n",
      "ARFMP: Modernization of Plant and Invertebrate Research and Research Training Facility\n",
      "\n",
      "There are 363 abstracts with label 27\n",
      "Proteins Required for Zygotic Nuclear Fusion\n",
      "Assessment of Requirements for a Database for Arabidopsis and Other Plant Genomes\n",
      "Expression of Bacterial Pesticidal Genes in Plants, U.S.- Pakistan Cooperative Research\n",
      "FAW: Molecular Mechanisms of Glial-Guided Neuronal Migration\n",
      "FAW: Molecular Studies of Neural Induction in Tunicate\n",
      "\n",
      "There are 211 abstracts with label 28\n",
      "SGER: Optical Data Storage and Processing by Photon Echo\n",
      "Analytical Methods for Condensed-Phase Photoinitiated Processes\n",
      "ROW: Monolithic Intergration of AlGaAs/GaAs Opto-Electronic Devices\n",
      "Chemical Applications of Lasers Short Course\n",
      "Undergraduate Faculty Enhancement Workshop in Laser/Electro-Optic Technology\n",
      "\n",
      "There are 289 abstracts with label 29\n",
      "Faculty Awards for Women Scientists and Engineers: (FAW)\n",
      "RIA: New Techniques for High-Level Synthesis\n",
      "RIA: Dextrous Manipulation, Task Execution and Symmetrics inFingertip Design\n",
      "Research Initiation: Foundations of Quantitative Inference About Sets of Design Possibilities\n",
      "Computer-Based Support for the Learning of Software Design\n",
      "\n",
      "There are 201 abstracts with label 30\n",
      "Approaches to Communications in Games\n",
      "FAW: Phonological Feature Interdependencies\n",
      "Advanced Techniques for the Representation and Use of Geographic Information\n",
      "Parallel Programming with Equations\n",
      "Diachronic Relations Among Speech-Based and Written Registers in English\n",
      "\n",
      "There are 182 abstracts with label 31\n",
      "Synthesis and Diffusion Behavior of Thermotropic Poly(ether-amides)\n",
      "Fabrication and Evaluation of Organized Molecular Assembliesof Electroactive Polymers\n",
      "Materials Research Laboratory in Polymers at the University of Massachusetts\n",
      "Living Polyisonitrile Polymerization Catalysts\n",
      "Emulsion and Dispersion Polymerization\n",
      "\n",
      "There are 65 abstracts with label 32\n",
      "Plant Growth Instrumentation Facility\n",
      "The Rise of Molecular Biology: Roots in Protein Research and the Problematic Relationship to Biochemistry\n",
      "Cryopreparation and Subcellular Localization of Diffusible Substances in Plant Tissues\n",
      "Research Training Group in Plant Cell Biology\n",
      "Postdoctoral Research Fellowship in Plant Biology\n",
      "\n",
      "There are 68 abstracts with label 33\n",
      "Oceanographic Instrumentation\n",
      "Oceanographic Instrumentation\n",
      "Oceanographic Instrumentation\n",
      "Oceanographic Instrumentation\n",
      "Oceanographic Instrumentation\n",
      "\n",
      "There are 1560 abstracts with label 34\n",
      "Three Dimensional Reconstruction of Images of Interior Objects Using X-rays and Large Area Detectors\n",
      "A Neural Network Model for Reaction Times\n",
      "FAW: Research in Design of Digital Systems\n",
      "Automated Model-Based Computer Vision\n",
      "Dynamic Modeling Methods for the Design of High Performance Machines\n",
      "\n",
      "There are 240 abstracts with label 35\n",
      "Shipboard Scientific Support Equipment\n",
      "Shipboard Scientific Support Equipment\n",
      "Shipboard Scientific Support Equipment\n",
      "Shipboard Scientific Support Equipment\n",
      "Shipboard Scientific Support Equipment\n",
      "\n",
      "There are 439 abstracts with label 36\n",
      "Summer Research Program in Chemical Analysis\n",
      "IDEAS: A Program to Retain Women Engineering Students\n",
      "Research Careers in Biology for Minority Scholars\n",
      "Graduate Engineering Education at Michigan State University\n",
      "Graduate Engineering Education for Women\n",
      "\n",
      "There are 293 abstracts with label 37\n",
      "Fourth U.S.-Japan Workshop in Earthquake Disaster Preventionof Lifeline Systems\n",
      "An Experimental Investigation of the Dynamic Torsional- Translational Response of Reinforced Concrete Building Structrues\n",
      "Cooperative Agreement: Understanding the Earth's Dynamics and Structure (IRIS)\n",
      "Effects of Fabric Evolution on Liquefaction Resistance of Sands\n",
      "Non-Linear System Identification of Soils Using Extended Kalman Filter\n",
      "\n",
      "There are 644 abstracts with label 38\n",
      "\"U.S.-Poland Cooperative Research on Algebras in Analysis\"\n",
      "Mathematical Sciences: Linear Fractional Models and Composition Operators\n",
      "Mathematical Sciences: Automorphic Forms on Classical Groups\n",
      "Mathematical Sciences: New Models in the Rankin-Selberg Method and Uses of the Metaplectic Group\n",
      "Mathematical Sciences: Conference on Algebraic and Complex Geometry; to be held April 4-7, 1991 at Johns Hopkins University\n",
      "\n"
     ]
    }
   ],
   "source": [
    "ex = 5\n",
    "for label in range(max(labels)):\n",
    "    nmb = len(df.loc[df.label == label,'title'])\n",
    "    print('There are {} abstracts with label {}'.format(nmb,label))\n",
    "        \n",
    "    for it in range(min(ex,nmb)):\n",
    "        print(df.loc[df.label == label,'title'].iloc[it])\n",
    "    print()"
   ]
  },
  {
   "cell_type": "code",
   "execution_count": null,
   "metadata": {
    "collapsed": true
   },
   "outputs": [],
   "source": []
  }
 ],
 "metadata": {
  "kernelspec": {
   "display_name": "Python 3",
   "language": "python",
   "name": "python3"
  },
  "language_info": {
   "codemirror_mode": {
    "name": "ipython",
    "version": 3
   },
   "file_extension": ".py",
   "mimetype": "text/x-python",
   "name": "python",
   "nbconvert_exporter": "python",
   "pygments_lexer": "ipython3",
   "version": "3.6.6"
  }
 },
 "nbformat": 4,
 "nbformat_minor": 1
}
